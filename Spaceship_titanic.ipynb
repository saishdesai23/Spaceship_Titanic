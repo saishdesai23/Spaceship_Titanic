{
  "nbformat": 4,
  "nbformat_minor": 0,
  "metadata": {
    "colab": {
      "name": "Spaceship titanic.ipynb",
      "provenance": [],
      "collapsed_sections": [],
      "authorship_tag": "ABX9TyNAMzfwUDwameUAySj3KAFd",
      "include_colab_link": true
    },
    "kernelspec": {
      "name": "python3",
      "display_name": "Python 3"
    },
    "language_info": {
      "name": "python"
    }
  },
  "cells": [
    {
      "cell_type": "markdown",
      "metadata": {
        "id": "view-in-github",
        "colab_type": "text"
      },
      "source": [
        "<a href=\"https://colab.research.google.com/github/saishdesai23/Spaceship_Titanic/blob/main/Spaceship_titanic.ipynb\" target=\"_parent\"><img src=\"https://colab.research.google.com/assets/colab-badge.svg\" alt=\"Open In Colab\"/></a>"
      ]
    },
    {
      "cell_type": "markdown",
      "source": [
        "# Classification of Passenger Transfer to Alternate Dimension\n",
        "\n",
        "## __Author__ - Saish Desai\n",
        "\n",
        "## The task for this project is to predict whether a passenger was transported to an alternate dimension during the Spaceship Titanic's collision with the spacetime anomaly."
      ],
      "metadata": {
        "id": "n392DLM-31JV"
      }
    },
    {
      "cell_type": "markdown",
      "source": [
        "## 1. Importing libraries"
      ],
      "metadata": {
        "id": "MF-wwdyZ4Vrl"
      }
    },
    {
      "cell_type": "code",
      "execution_count": 1,
      "metadata": {
        "id": "pu0W0QCTy4Gp",
        "colab": {
          "base_uri": "https://localhost:8080/"
        },
        "outputId": "62c91876-b13e-477a-deba-30345592c9d5"
      },
      "outputs": [
        {
          "output_type": "stream",
          "name": "stdout",
          "text": [
            "Mounted at drive\n"
          ]
        }
      ],
      "source": [
        "import pandas as pd\n",
        "import numpy as np\n",
        "\n",
        "# Data vizualization libraries\n",
        "import matplotlib.pyplot as plt\n",
        "import seaborn as sns\n",
        "from google.colab import drive\n",
        "drive.mount('drive')\n",
        "\n",
        "# Data cleaning and tranformation libraries\n",
        "from sklearn.preprocessing import MinMaxScaler\n",
        "\n",
        "# Data performance evaluation libraries\n",
        "from sklearn.metrics import accuracy_score\n",
        "from sklearn.metrics import confusion_matrix\n",
        "from sklearn.metrics import classification_report\n",
        "\n",
        "# Data modelling libraries\n",
        "from sklearn.linear_model import LogisticRegression\n",
        "from sklearn.model_selection import train_test_split\n",
        "from sklearn.naive_bayes import MultinomialNB\n",
        "from sklearn.ensemble import RandomForestClassifier\n",
        "from sklearn.ensemble import AdaBoostClassifier\n",
        "from sklearn.tree import DecisionTreeClassifier\n",
        "from sklearn.neighbors import NearestNeighbors\n",
        "from sklearn.svm import SVC\n",
        "from sklearn.svm import LinearSVC\n",
        "from sklearn.pipeline import make_pipeline\n",
        "from sklearn.preprocessing import StandardScaler\n",
        "import itertools\n",
        "\n",
        "# Deep learning libraries\n",
        "from tensorflow import keras\n",
        "from tensorflow.keras import layers"
      ]
    },
    {
      "cell_type": "markdown",
      "source": [
        "## 2. Data Import"
      ],
      "metadata": {
        "id": "kQ73LUhJ_iQI"
      }
    },
    {
      "cell_type": "code",
      "source": [
        "train_data = pd.read_csv(\"/content/train.csv\")\n",
        "train_data.head()"
      ],
      "metadata": {
        "colab": {
          "base_uri": "https://localhost:8080/",
          "height": 357
        },
        "id": "zgkzv2XuzG81",
        "outputId": "6e33c930-847a-4ccd-8f79-ecd9e2df1364"
      },
      "execution_count": 2,
      "outputs": [
        {
          "output_type": "execute_result",
          "data": {
            "text/html": [
              "\n",
              "  <div id=\"df-e7913f6b-ee80-42dc-a528-be4e70332096\">\n",
              "    <div class=\"colab-df-container\">\n",
              "      <div>\n",
              "<style scoped>\n",
              "    .dataframe tbody tr th:only-of-type {\n",
              "        vertical-align: middle;\n",
              "    }\n",
              "\n",
              "    .dataframe tbody tr th {\n",
              "        vertical-align: top;\n",
              "    }\n",
              "\n",
              "    .dataframe thead th {\n",
              "        text-align: right;\n",
              "    }\n",
              "</style>\n",
              "<table border=\"1\" class=\"dataframe\">\n",
              "  <thead>\n",
              "    <tr style=\"text-align: right;\">\n",
              "      <th></th>\n",
              "      <th>PassengerId</th>\n",
              "      <th>HomePlanet</th>\n",
              "      <th>CryoSleep</th>\n",
              "      <th>Cabin</th>\n",
              "      <th>Destination</th>\n",
              "      <th>Age</th>\n",
              "      <th>VIP</th>\n",
              "      <th>RoomService</th>\n",
              "      <th>FoodCourt</th>\n",
              "      <th>ShoppingMall</th>\n",
              "      <th>Spa</th>\n",
              "      <th>VRDeck</th>\n",
              "      <th>Name</th>\n",
              "      <th>Transported</th>\n",
              "    </tr>\n",
              "  </thead>\n",
              "  <tbody>\n",
              "    <tr>\n",
              "      <th>0</th>\n",
              "      <td>0001_01</td>\n",
              "      <td>Europa</td>\n",
              "      <td>False</td>\n",
              "      <td>B/0/P</td>\n",
              "      <td>TRAPPIST-1e</td>\n",
              "      <td>39.0</td>\n",
              "      <td>False</td>\n",
              "      <td>0.0</td>\n",
              "      <td>0.0</td>\n",
              "      <td>0.0</td>\n",
              "      <td>0.0</td>\n",
              "      <td>0.0</td>\n",
              "      <td>Maham Ofracculy</td>\n",
              "      <td>False</td>\n",
              "    </tr>\n",
              "    <tr>\n",
              "      <th>1</th>\n",
              "      <td>0002_01</td>\n",
              "      <td>Earth</td>\n",
              "      <td>False</td>\n",
              "      <td>F/0/S</td>\n",
              "      <td>TRAPPIST-1e</td>\n",
              "      <td>24.0</td>\n",
              "      <td>False</td>\n",
              "      <td>109.0</td>\n",
              "      <td>9.0</td>\n",
              "      <td>25.0</td>\n",
              "      <td>549.0</td>\n",
              "      <td>44.0</td>\n",
              "      <td>Juanna Vines</td>\n",
              "      <td>True</td>\n",
              "    </tr>\n",
              "    <tr>\n",
              "      <th>2</th>\n",
              "      <td>0003_01</td>\n",
              "      <td>Europa</td>\n",
              "      <td>False</td>\n",
              "      <td>A/0/S</td>\n",
              "      <td>TRAPPIST-1e</td>\n",
              "      <td>58.0</td>\n",
              "      <td>True</td>\n",
              "      <td>43.0</td>\n",
              "      <td>3576.0</td>\n",
              "      <td>0.0</td>\n",
              "      <td>6715.0</td>\n",
              "      <td>49.0</td>\n",
              "      <td>Altark Susent</td>\n",
              "      <td>False</td>\n",
              "    </tr>\n",
              "    <tr>\n",
              "      <th>3</th>\n",
              "      <td>0003_02</td>\n",
              "      <td>Europa</td>\n",
              "      <td>False</td>\n",
              "      <td>A/0/S</td>\n",
              "      <td>TRAPPIST-1e</td>\n",
              "      <td>33.0</td>\n",
              "      <td>False</td>\n",
              "      <td>0.0</td>\n",
              "      <td>1283.0</td>\n",
              "      <td>371.0</td>\n",
              "      <td>3329.0</td>\n",
              "      <td>193.0</td>\n",
              "      <td>Solam Susent</td>\n",
              "      <td>False</td>\n",
              "    </tr>\n",
              "    <tr>\n",
              "      <th>4</th>\n",
              "      <td>0004_01</td>\n",
              "      <td>Earth</td>\n",
              "      <td>False</td>\n",
              "      <td>F/1/S</td>\n",
              "      <td>TRAPPIST-1e</td>\n",
              "      <td>16.0</td>\n",
              "      <td>False</td>\n",
              "      <td>303.0</td>\n",
              "      <td>70.0</td>\n",
              "      <td>151.0</td>\n",
              "      <td>565.0</td>\n",
              "      <td>2.0</td>\n",
              "      <td>Willy Santantines</td>\n",
              "      <td>True</td>\n",
              "    </tr>\n",
              "  </tbody>\n",
              "</table>\n",
              "</div>\n",
              "      <button class=\"colab-df-convert\" onclick=\"convertToInteractive('df-e7913f6b-ee80-42dc-a528-be4e70332096')\"\n",
              "              title=\"Convert this dataframe to an interactive table.\"\n",
              "              style=\"display:none;\">\n",
              "        \n",
              "  <svg xmlns=\"http://www.w3.org/2000/svg\" height=\"24px\"viewBox=\"0 0 24 24\"\n",
              "       width=\"24px\">\n",
              "    <path d=\"M0 0h24v24H0V0z\" fill=\"none\"/>\n",
              "    <path d=\"M18.56 5.44l.94 2.06.94-2.06 2.06-.94-2.06-.94-.94-2.06-.94 2.06-2.06.94zm-11 1L8.5 8.5l.94-2.06 2.06-.94-2.06-.94L8.5 2.5l-.94 2.06-2.06.94zm10 10l.94 2.06.94-2.06 2.06-.94-2.06-.94-.94-2.06-.94 2.06-2.06.94z\"/><path d=\"M17.41 7.96l-1.37-1.37c-.4-.4-.92-.59-1.43-.59-.52 0-1.04.2-1.43.59L10.3 9.45l-7.72 7.72c-.78.78-.78 2.05 0 2.83L4 21.41c.39.39.9.59 1.41.59.51 0 1.02-.2 1.41-.59l7.78-7.78 2.81-2.81c.8-.78.8-2.07 0-2.86zM5.41 20L4 18.59l7.72-7.72 1.47 1.35L5.41 20z\"/>\n",
              "  </svg>\n",
              "      </button>\n",
              "      \n",
              "  <style>\n",
              "    .colab-df-container {\n",
              "      display:flex;\n",
              "      flex-wrap:wrap;\n",
              "      gap: 12px;\n",
              "    }\n",
              "\n",
              "    .colab-df-convert {\n",
              "      background-color: #E8F0FE;\n",
              "      border: none;\n",
              "      border-radius: 50%;\n",
              "      cursor: pointer;\n",
              "      display: none;\n",
              "      fill: #1967D2;\n",
              "      height: 32px;\n",
              "      padding: 0 0 0 0;\n",
              "      width: 32px;\n",
              "    }\n",
              "\n",
              "    .colab-df-convert:hover {\n",
              "      background-color: #E2EBFA;\n",
              "      box-shadow: 0px 1px 2px rgba(60, 64, 67, 0.3), 0px 1px 3px 1px rgba(60, 64, 67, 0.15);\n",
              "      fill: #174EA6;\n",
              "    }\n",
              "\n",
              "    [theme=dark] .colab-df-convert {\n",
              "      background-color: #3B4455;\n",
              "      fill: #D2E3FC;\n",
              "    }\n",
              "\n",
              "    [theme=dark] .colab-df-convert:hover {\n",
              "      background-color: #434B5C;\n",
              "      box-shadow: 0px 1px 3px 1px rgba(0, 0, 0, 0.15);\n",
              "      filter: drop-shadow(0px 1px 2px rgba(0, 0, 0, 0.3));\n",
              "      fill: #FFFFFF;\n",
              "    }\n",
              "  </style>\n",
              "\n",
              "      <script>\n",
              "        const buttonEl =\n",
              "          document.querySelector('#df-e7913f6b-ee80-42dc-a528-be4e70332096 button.colab-df-convert');\n",
              "        buttonEl.style.display =\n",
              "          google.colab.kernel.accessAllowed ? 'block' : 'none';\n",
              "\n",
              "        async function convertToInteractive(key) {\n",
              "          const element = document.querySelector('#df-e7913f6b-ee80-42dc-a528-be4e70332096');\n",
              "          const dataTable =\n",
              "            await google.colab.kernel.invokeFunction('convertToInteractive',\n",
              "                                                     [key], {});\n",
              "          if (!dataTable) return;\n",
              "\n",
              "          const docLinkHtml = 'Like what you see? Visit the ' +\n",
              "            '<a target=\"_blank\" href=https://colab.research.google.com/notebooks/data_table.ipynb>data table notebook</a>'\n",
              "            + ' to learn more about interactive tables.';\n",
              "          element.innerHTML = '';\n",
              "          dataTable['output_type'] = 'display_data';\n",
              "          await google.colab.output.renderOutput(dataTable, element);\n",
              "          const docLink = document.createElement('div');\n",
              "          docLink.innerHTML = docLinkHtml;\n",
              "          element.appendChild(docLink);\n",
              "        }\n",
              "      </script>\n",
              "    </div>\n",
              "  </div>\n",
              "  "
            ],
            "text/plain": [
              "  PassengerId HomePlanet CryoSleep  Cabin  Destination   Age    VIP  \\\n",
              "0     0001_01     Europa     False  B/0/P  TRAPPIST-1e  39.0  False   \n",
              "1     0002_01      Earth     False  F/0/S  TRAPPIST-1e  24.0  False   \n",
              "2     0003_01     Europa     False  A/0/S  TRAPPIST-1e  58.0   True   \n",
              "3     0003_02     Europa     False  A/0/S  TRAPPIST-1e  33.0  False   \n",
              "4     0004_01      Earth     False  F/1/S  TRAPPIST-1e  16.0  False   \n",
              "\n",
              "   RoomService  FoodCourt  ShoppingMall     Spa  VRDeck               Name  \\\n",
              "0          0.0        0.0           0.0     0.0     0.0    Maham Ofracculy   \n",
              "1        109.0        9.0          25.0   549.0    44.0       Juanna Vines   \n",
              "2         43.0     3576.0           0.0  6715.0    49.0      Altark Susent   \n",
              "3          0.0     1283.0         371.0  3329.0   193.0       Solam Susent   \n",
              "4        303.0       70.0         151.0   565.0     2.0  Willy Santantines   \n",
              "\n",
              "   Transported  \n",
              "0        False  \n",
              "1         True  \n",
              "2        False  \n",
              "3        False  \n",
              "4         True  "
            ]
          },
          "metadata": {},
          "execution_count": 2
        }
      ]
    },
    {
      "cell_type": "code",
      "source": [
        "test_data = pd.read_csv(\"/content/test.csv\")\n",
        "test_data.head()"
      ],
      "metadata": {
        "id": "mrx0rq17zO8y",
        "colab": {
          "base_uri": "https://localhost:8080/",
          "height": 357
        },
        "outputId": "027f714e-256f-4623-f7b4-840289483183"
      },
      "execution_count": 3,
      "outputs": [
        {
          "output_type": "execute_result",
          "data": {
            "text/html": [
              "\n",
              "  <div id=\"df-37e3c4ca-5edc-4738-a9a6-92028d58caf2\">\n",
              "    <div class=\"colab-df-container\">\n",
              "      <div>\n",
              "<style scoped>\n",
              "    .dataframe tbody tr th:only-of-type {\n",
              "        vertical-align: middle;\n",
              "    }\n",
              "\n",
              "    .dataframe tbody tr th {\n",
              "        vertical-align: top;\n",
              "    }\n",
              "\n",
              "    .dataframe thead th {\n",
              "        text-align: right;\n",
              "    }\n",
              "</style>\n",
              "<table border=\"1\" class=\"dataframe\">\n",
              "  <thead>\n",
              "    <tr style=\"text-align: right;\">\n",
              "      <th></th>\n",
              "      <th>PassengerId</th>\n",
              "      <th>HomePlanet</th>\n",
              "      <th>CryoSleep</th>\n",
              "      <th>Cabin</th>\n",
              "      <th>Destination</th>\n",
              "      <th>Age</th>\n",
              "      <th>VIP</th>\n",
              "      <th>RoomService</th>\n",
              "      <th>FoodCourt</th>\n",
              "      <th>ShoppingMall</th>\n",
              "      <th>Spa</th>\n",
              "      <th>VRDeck</th>\n",
              "      <th>Name</th>\n",
              "    </tr>\n",
              "  </thead>\n",
              "  <tbody>\n",
              "    <tr>\n",
              "      <th>0</th>\n",
              "      <td>0013_01</td>\n",
              "      <td>Earth</td>\n",
              "      <td>True</td>\n",
              "      <td>G/3/S</td>\n",
              "      <td>TRAPPIST-1e</td>\n",
              "      <td>27.0</td>\n",
              "      <td>False</td>\n",
              "      <td>0.0</td>\n",
              "      <td>0.0</td>\n",
              "      <td>0.0</td>\n",
              "      <td>0.0</td>\n",
              "      <td>0.0</td>\n",
              "      <td>Nelly Carsoning</td>\n",
              "    </tr>\n",
              "    <tr>\n",
              "      <th>1</th>\n",
              "      <td>0018_01</td>\n",
              "      <td>Earth</td>\n",
              "      <td>False</td>\n",
              "      <td>F/4/S</td>\n",
              "      <td>TRAPPIST-1e</td>\n",
              "      <td>19.0</td>\n",
              "      <td>False</td>\n",
              "      <td>0.0</td>\n",
              "      <td>9.0</td>\n",
              "      <td>0.0</td>\n",
              "      <td>2823.0</td>\n",
              "      <td>0.0</td>\n",
              "      <td>Lerome Peckers</td>\n",
              "    </tr>\n",
              "    <tr>\n",
              "      <th>2</th>\n",
              "      <td>0019_01</td>\n",
              "      <td>Europa</td>\n",
              "      <td>True</td>\n",
              "      <td>C/0/S</td>\n",
              "      <td>55 Cancri e</td>\n",
              "      <td>31.0</td>\n",
              "      <td>False</td>\n",
              "      <td>0.0</td>\n",
              "      <td>0.0</td>\n",
              "      <td>0.0</td>\n",
              "      <td>0.0</td>\n",
              "      <td>0.0</td>\n",
              "      <td>Sabih Unhearfus</td>\n",
              "    </tr>\n",
              "    <tr>\n",
              "      <th>3</th>\n",
              "      <td>0021_01</td>\n",
              "      <td>Europa</td>\n",
              "      <td>False</td>\n",
              "      <td>C/1/S</td>\n",
              "      <td>TRAPPIST-1e</td>\n",
              "      <td>38.0</td>\n",
              "      <td>False</td>\n",
              "      <td>0.0</td>\n",
              "      <td>6652.0</td>\n",
              "      <td>0.0</td>\n",
              "      <td>181.0</td>\n",
              "      <td>585.0</td>\n",
              "      <td>Meratz Caltilter</td>\n",
              "    </tr>\n",
              "    <tr>\n",
              "      <th>4</th>\n",
              "      <td>0023_01</td>\n",
              "      <td>Earth</td>\n",
              "      <td>False</td>\n",
              "      <td>F/5/S</td>\n",
              "      <td>TRAPPIST-1e</td>\n",
              "      <td>20.0</td>\n",
              "      <td>False</td>\n",
              "      <td>10.0</td>\n",
              "      <td>0.0</td>\n",
              "      <td>635.0</td>\n",
              "      <td>0.0</td>\n",
              "      <td>0.0</td>\n",
              "      <td>Brence Harperez</td>\n",
              "    </tr>\n",
              "  </tbody>\n",
              "</table>\n",
              "</div>\n",
              "      <button class=\"colab-df-convert\" onclick=\"convertToInteractive('df-37e3c4ca-5edc-4738-a9a6-92028d58caf2')\"\n",
              "              title=\"Convert this dataframe to an interactive table.\"\n",
              "              style=\"display:none;\">\n",
              "        \n",
              "  <svg xmlns=\"http://www.w3.org/2000/svg\" height=\"24px\"viewBox=\"0 0 24 24\"\n",
              "       width=\"24px\">\n",
              "    <path d=\"M0 0h24v24H0V0z\" fill=\"none\"/>\n",
              "    <path d=\"M18.56 5.44l.94 2.06.94-2.06 2.06-.94-2.06-.94-.94-2.06-.94 2.06-2.06.94zm-11 1L8.5 8.5l.94-2.06 2.06-.94-2.06-.94L8.5 2.5l-.94 2.06-2.06.94zm10 10l.94 2.06.94-2.06 2.06-.94-2.06-.94-.94-2.06-.94 2.06-2.06.94z\"/><path d=\"M17.41 7.96l-1.37-1.37c-.4-.4-.92-.59-1.43-.59-.52 0-1.04.2-1.43.59L10.3 9.45l-7.72 7.72c-.78.78-.78 2.05 0 2.83L4 21.41c.39.39.9.59 1.41.59.51 0 1.02-.2 1.41-.59l7.78-7.78 2.81-2.81c.8-.78.8-2.07 0-2.86zM5.41 20L4 18.59l7.72-7.72 1.47 1.35L5.41 20z\"/>\n",
              "  </svg>\n",
              "      </button>\n",
              "      \n",
              "  <style>\n",
              "    .colab-df-container {\n",
              "      display:flex;\n",
              "      flex-wrap:wrap;\n",
              "      gap: 12px;\n",
              "    }\n",
              "\n",
              "    .colab-df-convert {\n",
              "      background-color: #E8F0FE;\n",
              "      border: none;\n",
              "      border-radius: 50%;\n",
              "      cursor: pointer;\n",
              "      display: none;\n",
              "      fill: #1967D2;\n",
              "      height: 32px;\n",
              "      padding: 0 0 0 0;\n",
              "      width: 32px;\n",
              "    }\n",
              "\n",
              "    .colab-df-convert:hover {\n",
              "      background-color: #E2EBFA;\n",
              "      box-shadow: 0px 1px 2px rgba(60, 64, 67, 0.3), 0px 1px 3px 1px rgba(60, 64, 67, 0.15);\n",
              "      fill: #174EA6;\n",
              "    }\n",
              "\n",
              "    [theme=dark] .colab-df-convert {\n",
              "      background-color: #3B4455;\n",
              "      fill: #D2E3FC;\n",
              "    }\n",
              "\n",
              "    [theme=dark] .colab-df-convert:hover {\n",
              "      background-color: #434B5C;\n",
              "      box-shadow: 0px 1px 3px 1px rgba(0, 0, 0, 0.15);\n",
              "      filter: drop-shadow(0px 1px 2px rgba(0, 0, 0, 0.3));\n",
              "      fill: #FFFFFF;\n",
              "    }\n",
              "  </style>\n",
              "\n",
              "      <script>\n",
              "        const buttonEl =\n",
              "          document.querySelector('#df-37e3c4ca-5edc-4738-a9a6-92028d58caf2 button.colab-df-convert');\n",
              "        buttonEl.style.display =\n",
              "          google.colab.kernel.accessAllowed ? 'block' : 'none';\n",
              "\n",
              "        async function convertToInteractive(key) {\n",
              "          const element = document.querySelector('#df-37e3c4ca-5edc-4738-a9a6-92028d58caf2');\n",
              "          const dataTable =\n",
              "            await google.colab.kernel.invokeFunction('convertToInteractive',\n",
              "                                                     [key], {});\n",
              "          if (!dataTable) return;\n",
              "\n",
              "          const docLinkHtml = 'Like what you see? Visit the ' +\n",
              "            '<a target=\"_blank\" href=https://colab.research.google.com/notebooks/data_table.ipynb>data table notebook</a>'\n",
              "            + ' to learn more about interactive tables.';\n",
              "          element.innerHTML = '';\n",
              "          dataTable['output_type'] = 'display_data';\n",
              "          await google.colab.output.renderOutput(dataTable, element);\n",
              "          const docLink = document.createElement('div');\n",
              "          docLink.innerHTML = docLinkHtml;\n",
              "          element.appendChild(docLink);\n",
              "        }\n",
              "      </script>\n",
              "    </div>\n",
              "  </div>\n",
              "  "
            ],
            "text/plain": [
              "  PassengerId HomePlanet CryoSleep  Cabin  Destination   Age    VIP  \\\n",
              "0     0013_01      Earth      True  G/3/S  TRAPPIST-1e  27.0  False   \n",
              "1     0018_01      Earth     False  F/4/S  TRAPPIST-1e  19.0  False   \n",
              "2     0019_01     Europa      True  C/0/S  55 Cancri e  31.0  False   \n",
              "3     0021_01     Europa     False  C/1/S  TRAPPIST-1e  38.0  False   \n",
              "4     0023_01      Earth     False  F/5/S  TRAPPIST-1e  20.0  False   \n",
              "\n",
              "   RoomService  FoodCourt  ShoppingMall     Spa  VRDeck              Name  \n",
              "0          0.0        0.0           0.0     0.0     0.0   Nelly Carsoning  \n",
              "1          0.0        9.0           0.0  2823.0     0.0    Lerome Peckers  \n",
              "2          0.0        0.0           0.0     0.0     0.0   Sabih Unhearfus  \n",
              "3          0.0     6652.0           0.0   181.0   585.0  Meratz Caltilter  \n",
              "4         10.0        0.0         635.0     0.0     0.0   Brence Harperez  "
            ]
          },
          "metadata": {},
          "execution_count": 3
        }
      ]
    },
    {
      "cell_type": "markdown",
      "source": [
        "## 3. Data understanding"
      ],
      "metadata": {
        "id": "0-EXyGoR_QED"
      }
    },
    {
      "cell_type": "code",
      "source": [
        "# shape of train_data\n",
        "print(\"shape of train_data\")\n",
        "print(train_data.shape)\n",
        "\n",
        "# train_data information\n",
        "print(\"shape of train_data\")\n",
        "print(train_data.info())\n",
        "\n",
        "# describing numerical values of train_data\n",
        "print(train_data.describe())"
      ],
      "metadata": {
        "colab": {
          "base_uri": "https://localhost:8080/"
        },
        "id": "ftbh4zn69_bI",
        "outputId": "393acb30-000e-487a-ed0b-afa07d0f691f"
      },
      "execution_count": 4,
      "outputs": [
        {
          "output_type": "stream",
          "name": "stdout",
          "text": [
            "shape of train_data\n",
            "(8693, 14)\n",
            "shape of train_data\n",
            "<class 'pandas.core.frame.DataFrame'>\n",
            "RangeIndex: 8693 entries, 0 to 8692\n",
            "Data columns (total 14 columns):\n",
            " #   Column        Non-Null Count  Dtype  \n",
            "---  ------        --------------  -----  \n",
            " 0   PassengerId   8693 non-null   object \n",
            " 1   HomePlanet    8492 non-null   object \n",
            " 2   CryoSleep     8476 non-null   object \n",
            " 3   Cabin         8494 non-null   object \n",
            " 4   Destination   8511 non-null   object \n",
            " 5   Age           8514 non-null   float64\n",
            " 6   VIP           8490 non-null   object \n",
            " 7   RoomService   8512 non-null   float64\n",
            " 8   FoodCourt     8510 non-null   float64\n",
            " 9   ShoppingMall  8485 non-null   float64\n",
            " 10  Spa           8510 non-null   float64\n",
            " 11  VRDeck        8505 non-null   float64\n",
            " 12  Name          8493 non-null   object \n",
            " 13  Transported   8693 non-null   bool   \n",
            "dtypes: bool(1), float64(6), object(7)\n",
            "memory usage: 891.5+ KB\n",
            "None\n",
            "               Age   RoomService     FoodCourt  ShoppingMall           Spa  \\\n",
            "count  8514.000000   8512.000000   8510.000000   8485.000000   8510.000000   \n",
            "mean     28.827930    224.687617    458.077203    173.729169    311.138778   \n",
            "std      14.489021    666.717663   1611.489240    604.696458   1136.705535   \n",
            "min       0.000000      0.000000      0.000000      0.000000      0.000000   \n",
            "25%      19.000000      0.000000      0.000000      0.000000      0.000000   \n",
            "50%      27.000000      0.000000      0.000000      0.000000      0.000000   \n",
            "75%      38.000000     47.000000     76.000000     27.000000     59.000000   \n",
            "max      79.000000  14327.000000  29813.000000  23492.000000  22408.000000   \n",
            "\n",
            "             VRDeck  \n",
            "count   8505.000000  \n",
            "mean     304.854791  \n",
            "std     1145.717189  \n",
            "min        0.000000  \n",
            "25%        0.000000  \n",
            "50%        0.000000  \n",
            "75%       46.000000  \n",
            "max    24133.000000  \n"
          ]
        }
      ]
    },
    {
      "cell_type": "markdown",
      "source": [
        "4 .Data Vizualisation and Cleaning"
      ],
      "metadata": {
        "id": "XZTM5Df84fFJ"
      }
    },
    {
      "cell_type": "code",
      "source": [
        "# Updating the id in integer format\n",
        "train_data['PassengerId'] = train_data['PassengerId'].apply(lambda x: int(x[:4] +x[5:]) )\n",
        "# len(set(train_data['PassengerId'])) checking whether the passengerid is still unique\n",
        "# train_data.head()\n",
        "\n",
        "# Applying the same tranformations to test data\n",
        "# Updating the id in integer format\n",
        "test_data['PassengerId'] = test_data['PassengerId'].apply(lambda x: int(x[:4] +x[5:]) )\n",
        "# len(set(train_data['PassengerId'])) checking whether the passengerid is still unique\n",
        "# test_data.head()"
      ],
      "metadata": {
        "id": "CDwPyrqwAMEt"
      },
      "execution_count": 5,
      "outputs": []
    },
    {
      "cell_type": "markdown",
      "source": [
        "Let us categorize the 'HomePlanet' and 'Destination' column using one hot encoding and replace the missing values of the HomePlanet encoding columns with probabilities of orgin with respect to each planet."
      ],
      "metadata": {
        "id": "h0ryskv9BAN9"
      }
    },
    {
      "cell_type": "code",
      "source": [
        "def catencoding(dataframe,catcol,index):\n",
        "  \"\"\"\n",
        "  Function to encode categorical values and filling missing values with probility of occurence of each category from the dataset\n",
        "  This function can be used variables with 3 categories\n",
        "  \"\"\"\n",
        "  temp_dataframe = dataframe[catcol]\n",
        "  catlist = list(dataframe.groupby(by=[catcol]).count()[index])\n",
        "  P_cat1, P_cat2, P_cat3 = 0,0,0\n",
        "  P_cat1 = round(catlist[0]/sum(catlist),2)\n",
        "  P_cat2 = round(catlist[1]/sum(catlist),2)\n",
        "  P_cat3 = round(catlist[2]/sum(catlist),2)\n",
        "  print(P_cat1,P_cat2,P_cat3)\n",
        "  dataframe = pd.get_dummies(dataframe, columns = [catcol])\n",
        "  # listing all the dummy columns created\n",
        "  dummy_col = list(dataframe.columns[-3:])\n",
        "  # Replacing the missing values of the encoded columns with probabilities of orgin with respect to each column\n",
        "  cat1 = []\n",
        "  cat2 = []\n",
        "  cat3 = []\n",
        "  for ele1, ele2,ele3 in zip(dataframe[dummy_col[0]],dataframe[dummy_col[1]],dataframe[dummy_col[2]]):\n",
        "    if ele1 == 0 and ele2 == 0 and ele3 == 0:\n",
        "      cat1.append(P_cat1)\n",
        "      cat2.append(P_cat2)\n",
        "      cat3.append(P_cat3)\n",
        "    if ele1 == 1 and ele2 == 0 and ele3 == 0:\n",
        "      cat1.append(1)\n",
        "      cat2.append(0)\n",
        "      cat3.append(0)\n",
        "    if ele1 == 0 and ele2 == 1 and ele3 == 0:\n",
        "      cat1.append(0)\n",
        "      cat2.append(1)\n",
        "      cat3.append(0)\n",
        "    if ele1 == 0 and ele2 == 0 and ele3 == 1:\n",
        "      cat1.append(0)\n",
        "      cat2.append(0)\n",
        "      cat3.append(1)\n",
        "\n",
        "  dataframe[dummy_col[0]] = cat1\n",
        "  dataframe[dummy_col[1]] = cat2\n",
        "  dataframe[dummy_col[2]] = cat3\n",
        "  dataframe[catcol] = temp_dataframe\n",
        "  return dataframe\n"
      ],
      "metadata": {
        "id": "7Mjg8bliDZ6Q"
      },
      "execution_count": 6,
      "outputs": []
    },
    {
      "cell_type": "code",
      "source": [
        "# Encoding the categorical variables using the catencoding functions\n",
        "train_data = catencoding(train_data,'HomePlanet','PassengerId')\n",
        "train_data = catencoding(train_data,'Destination','PassengerId')\n",
        "\n",
        "# Applying the same encoding to test data\n",
        "test_data = catencoding(test_data,'HomePlanet','PassengerId')\n",
        "test_data = catencoding(test_data,'Destination','PassengerId')"
      ],
      "metadata": {
        "colab": {
          "base_uri": "https://localhost:8080/"
        },
        "id": "ProjK0ghPcf_",
        "outputId": "eda79f1c-dafc-41cb-80c3-38bc5ab8f454"
      },
      "execution_count": 7,
      "outputs": [
        {
          "output_type": "stream",
          "name": "stdout",
          "text": [
            "0.54 0.25 0.21\n",
            "0.21 0.09 0.69\n",
            "0.54 0.24 0.22\n",
            "0.2 0.09 0.71\n"
          ]
        }
      ]
    },
    {
      "cell_type": "code",
      "source": [
        "# https://u.osu.edu/missingdata/mechanisms-of-missingness/ -types of missing values\n",
        "train_data.head(60)\n",
        "train_data.to_csv(\"data.csv\")\n",
        "test_data.to_csv(\"data_test.csv\")"
      ],
      "metadata": {
        "id": "cphmnbdRWVSP"
      },
      "execution_count": 8,
      "outputs": []
    },
    {
      "cell_type": "markdown",
      "source": [
        "Now let us consider the column 'CryoSleep' sleep. It has around 217 blank entries. It is a boolean entry so we will have either a true or a false value associated with it.Here, we observe that passengers with 0 expenditure on RoomService, FoodCourt, Shopping, Spa and VRDeck are in cryo sleep. For others we can set the cryo sleep value to false. This is an example of missing values at Random (MAR) where the missing values depend on observation from other column (ref -https://u.osu.edu/missingdata/mechanisms-of-missingness/)"
      ],
      "metadata": {
        "id": "mLieDsehXbNy"
      }
    },
    {
      "cell_type": "code",
      "source": [
        "cryo = train_data.groupby(by = ['CryoSleep']).sum()\n",
        "cryo"
      ],
      "metadata": {
        "colab": {
          "base_uri": "https://localhost:8080/",
          "height": 225
        },
        "id": "ESjRgvhpYHfQ",
        "outputId": "b0549ff0-d89d-4768-edb8-e5f13b0c04fe"
      },
      "execution_count": 9,
      "outputs": [
        {
          "output_type": "execute_result",
          "data": {
            "text/html": [
              "\n",
              "  <div id=\"df-2870aef8-72df-4a34-a826-4aea6d75b034\">\n",
              "    <div class=\"colab-df-container\">\n",
              "      <div>\n",
              "<style scoped>\n",
              "    .dataframe tbody tr th:only-of-type {\n",
              "        vertical-align: middle;\n",
              "    }\n",
              "\n",
              "    .dataframe tbody tr th {\n",
              "        vertical-align: top;\n",
              "    }\n",
              "\n",
              "    .dataframe thead th {\n",
              "        text-align: right;\n",
              "    }\n",
              "</style>\n",
              "<table border=\"1\" class=\"dataframe\">\n",
              "  <thead>\n",
              "    <tr style=\"text-align: right;\">\n",
              "      <th></th>\n",
              "      <th>PassengerId</th>\n",
              "      <th>Age</th>\n",
              "      <th>RoomService</th>\n",
              "      <th>FoodCourt</th>\n",
              "      <th>ShoppingMall</th>\n",
              "      <th>Spa</th>\n",
              "      <th>VRDeck</th>\n",
              "      <th>Transported</th>\n",
              "      <th>HomePlanet_Earth</th>\n",
              "      <th>HomePlanet_Europa</th>\n",
              "      <th>HomePlanet_Mars</th>\n",
              "      <th>Destination_55 Cancri e</th>\n",
              "      <th>Destination_PSO J318.5-22</th>\n",
              "      <th>Destination_TRAPPIST-1e</th>\n",
              "    </tr>\n",
              "    <tr>\n",
              "      <th>CryoSleep</th>\n",
              "      <th></th>\n",
              "      <th></th>\n",
              "      <th></th>\n",
              "      <th></th>\n",
              "      <th></th>\n",
              "      <th></th>\n",
              "      <th></th>\n",
              "      <th></th>\n",
              "      <th></th>\n",
              "      <th></th>\n",
              "      <th></th>\n",
              "      <th></th>\n",
              "      <th></th>\n",
              "      <th></th>\n",
              "    </tr>\n",
              "  </thead>\n",
              "  <tbody>\n",
              "    <tr>\n",
              "      <th>False</th>\n",
              "      <td>2524276076</td>\n",
              "      <td>158427.0</td>\n",
              "      <td>1865582.0</td>\n",
              "      <td>3799600.0</td>\n",
              "      <td>1443579.0</td>\n",
              "      <td>2588931.0</td>\n",
              "      <td>2530810.0</td>\n",
              "      <td>1789</td>\n",
              "      <td>3172.96</td>\n",
              "      <td>1193.00</td>\n",
              "      <td>1073.04</td>\n",
              "      <td>1044.30</td>\n",
              "      <td>405.70</td>\n",
              "      <td>3987.70</td>\n",
              "    </tr>\n",
              "    <tr>\n",
              "      <th>True</th>\n",
              "      <td>1399546386</td>\n",
              "      <td>80983.0</td>\n",
              "      <td>0.0</td>\n",
              "      <td>0.0</td>\n",
              "      <td>0.0</td>\n",
              "      <td>0.0</td>\n",
              "      <td>0.0</td>\n",
              "      <td>2483</td>\n",
              "      <td>1422.50</td>\n",
              "      <td>929.75</td>\n",
              "      <td>684.75</td>\n",
              "      <td>749.08</td>\n",
              "      <td>387.32</td>\n",
              "      <td>1900.12</td>\n",
              "    </tr>\n",
              "  </tbody>\n",
              "</table>\n",
              "</div>\n",
              "      <button class=\"colab-df-convert\" onclick=\"convertToInteractive('df-2870aef8-72df-4a34-a826-4aea6d75b034')\"\n",
              "              title=\"Convert this dataframe to an interactive table.\"\n",
              "              style=\"display:none;\">\n",
              "        \n",
              "  <svg xmlns=\"http://www.w3.org/2000/svg\" height=\"24px\"viewBox=\"0 0 24 24\"\n",
              "       width=\"24px\">\n",
              "    <path d=\"M0 0h24v24H0V0z\" fill=\"none\"/>\n",
              "    <path d=\"M18.56 5.44l.94 2.06.94-2.06 2.06-.94-2.06-.94-.94-2.06-.94 2.06-2.06.94zm-11 1L8.5 8.5l.94-2.06 2.06-.94-2.06-.94L8.5 2.5l-.94 2.06-2.06.94zm10 10l.94 2.06.94-2.06 2.06-.94-2.06-.94-.94-2.06-.94 2.06-2.06.94z\"/><path d=\"M17.41 7.96l-1.37-1.37c-.4-.4-.92-.59-1.43-.59-.52 0-1.04.2-1.43.59L10.3 9.45l-7.72 7.72c-.78.78-.78 2.05 0 2.83L4 21.41c.39.39.9.59 1.41.59.51 0 1.02-.2 1.41-.59l7.78-7.78 2.81-2.81c.8-.78.8-2.07 0-2.86zM5.41 20L4 18.59l7.72-7.72 1.47 1.35L5.41 20z\"/>\n",
              "  </svg>\n",
              "      </button>\n",
              "      \n",
              "  <style>\n",
              "    .colab-df-container {\n",
              "      display:flex;\n",
              "      flex-wrap:wrap;\n",
              "      gap: 12px;\n",
              "    }\n",
              "\n",
              "    .colab-df-convert {\n",
              "      background-color: #E8F0FE;\n",
              "      border: none;\n",
              "      border-radius: 50%;\n",
              "      cursor: pointer;\n",
              "      display: none;\n",
              "      fill: #1967D2;\n",
              "      height: 32px;\n",
              "      padding: 0 0 0 0;\n",
              "      width: 32px;\n",
              "    }\n",
              "\n",
              "    .colab-df-convert:hover {\n",
              "      background-color: #E2EBFA;\n",
              "      box-shadow: 0px 1px 2px rgba(60, 64, 67, 0.3), 0px 1px 3px 1px rgba(60, 64, 67, 0.15);\n",
              "      fill: #174EA6;\n",
              "    }\n",
              "\n",
              "    [theme=dark] .colab-df-convert {\n",
              "      background-color: #3B4455;\n",
              "      fill: #D2E3FC;\n",
              "    }\n",
              "\n",
              "    [theme=dark] .colab-df-convert:hover {\n",
              "      background-color: #434B5C;\n",
              "      box-shadow: 0px 1px 3px 1px rgba(0, 0, 0, 0.15);\n",
              "      filter: drop-shadow(0px 1px 2px rgba(0, 0, 0, 0.3));\n",
              "      fill: #FFFFFF;\n",
              "    }\n",
              "  </style>\n",
              "\n",
              "      <script>\n",
              "        const buttonEl =\n",
              "          document.querySelector('#df-2870aef8-72df-4a34-a826-4aea6d75b034 button.colab-df-convert');\n",
              "        buttonEl.style.display =\n",
              "          google.colab.kernel.accessAllowed ? 'block' : 'none';\n",
              "\n",
              "        async function convertToInteractive(key) {\n",
              "          const element = document.querySelector('#df-2870aef8-72df-4a34-a826-4aea6d75b034');\n",
              "          const dataTable =\n",
              "            await google.colab.kernel.invokeFunction('convertToInteractive',\n",
              "                                                     [key], {});\n",
              "          if (!dataTable) return;\n",
              "\n",
              "          const docLinkHtml = 'Like what you see? Visit the ' +\n",
              "            '<a target=\"_blank\" href=https://colab.research.google.com/notebooks/data_table.ipynb>data table notebook</a>'\n",
              "            + ' to learn more about interactive tables.';\n",
              "          element.innerHTML = '';\n",
              "          dataTable['output_type'] = 'display_data';\n",
              "          await google.colab.output.renderOutput(dataTable, element);\n",
              "          const docLink = document.createElement('div');\n",
              "          docLink.innerHTML = docLinkHtml;\n",
              "          element.appendChild(docLink);\n",
              "        }\n",
              "      </script>\n",
              "    </div>\n",
              "  </div>\n",
              "  "
            ],
            "text/plain": [
              "           PassengerId       Age  RoomService  FoodCourt  ShoppingMall  \\\n",
              "CryoSleep                                                                \n",
              "False       2524276076  158427.0    1865582.0  3799600.0     1443579.0   \n",
              "True        1399546386   80983.0          0.0        0.0           0.0   \n",
              "\n",
              "                 Spa     VRDeck  Transported  HomePlanet_Earth  \\\n",
              "CryoSleep                                                        \n",
              "False      2588931.0  2530810.0         1789           3172.96   \n",
              "True             0.0        0.0         2483           1422.50   \n",
              "\n",
              "           HomePlanet_Europa  HomePlanet_Mars  Destination_55 Cancri e  \\\n",
              "CryoSleep                                                                \n",
              "False                1193.00          1073.04                  1044.30   \n",
              "True                  929.75           684.75                   749.08   \n",
              "\n",
              "           Destination_PSO J318.5-22  Destination_TRAPPIST-1e  \n",
              "CryoSleep                                                      \n",
              "False                         405.70                  3987.70  \n",
              "True                          387.32                  1900.12  "
            ]
          },
          "metadata": {},
          "execution_count": 9
        }
      ]
    },
    {
      "cell_type": "code",
      "source": [
        "# https://stackoverflow.com/questions/28236305/how-do-i-sum-values-in-a-column-that-match-a-given-condition-using-pandas\n",
        "train_data[train_data['CryoSleep'].isnull()]\n",
        "Sleep = []\n",
        "count=0\n",
        "# Setting the cryosleep variable to True for passengers with 0 expenditure and setting False for the rest. Consideringonly empty entries\n",
        "for i in range(len(train_data['CryoSleep'])):\n",
        "  if str(train_data.loc[i,'CryoSleep']) == \"nan\":\n",
        "    if train_data.loc[i,['RoomService','FoodCourt','ShoppingMall','Spa','VRDeck']].sum() == 0:\n",
        "      count+=1\n",
        "      train_data.loc[i,'CryoSleep'] = True\n",
        "    else:\n",
        "      count+=1\n",
        "      train_data.loc[i,'CryoSleep'] = False\n",
        "for i in range(len(train_data['CryoSleep'])):\n",
        "  if train_data.loc[i,'CryoSleep'] == True:\n",
        "    train_data.loc[i,['RoomService']] = 0\n",
        "    train_data.loc[i,['FoodCourt']] = 0\n",
        "    train_data.loc[i,['ShoppingMall']] = 0 \n",
        "    train_data.loc[i,['Spa']] = 0\n",
        "    train_data.loc[i,['VRDeck']] = 0\n",
        "print(count)\n",
        "train_data.to_csv(\"data.csv\")\n",
        "\n",
        "# Applying the same transformation to test data\n",
        "test_data[test_data['CryoSleep'].isnull()]\n",
        "Sleep = []\n",
        "count=0\n",
        "# Setting the cryosleep variable to True for passengers with 0 expenditure and setting False for the rest. Consideringonly empty entries\n",
        "for i in range(len(test_data['CryoSleep'])):\n",
        "  if str(test_data.loc[i,'CryoSleep']) == \"nan\":\n",
        "    if test_data.loc[i,['RoomService','FoodCourt','ShoppingMall','Spa','VRDeck']].sum() == 0:\n",
        "      count+=1\n",
        "      test_data.loc[i,'CryoSleep'] = True\n",
        "    else:\n",
        "      count+=1\n",
        "      test_data.loc[i,'CryoSleep'] = False\n",
        "for i in range(len(test_data['CryoSleep'])):\n",
        "  if test_data.loc[i,'CryoSleep'] == True:\n",
        "    test_data.loc[i,['RoomService']] = 0\n",
        "    test_data.loc[i,['FoodCourt']] = 0\n",
        "    test_data.loc[i,['ShoppingMall']] = 0 \n",
        "    test_data.loc[i,['Spa']] = 0\n",
        "    test_data.loc[i,['VRDeck']] = 0\n",
        "print(count)\n",
        "test_data.to_csv(\"data_test.csv\")\n",
        "\n"
      ],
      "metadata": {
        "colab": {
          "base_uri": "https://localhost:8080/"
        },
        "id": "MVJt59biZ4S0",
        "outputId": "70da3deb-b734-45c0-ef4b-24aa1f637702"
      },
      "execution_count": 10,
      "outputs": [
        {
          "output_type": "stream",
          "name": "stdout",
          "text": [
            "217\n",
            "93\n"
          ]
        }
      ]
    },
    {
      "cell_type": "code",
      "source": [
        "# Checking null entries for the column \"CryoSleep\" in the training data\n",
        "print(train_data[train_data['CryoSleep'].isnull()])\n",
        "\n",
        "# Checking null entries for the column \"CryoSleep\" in the test data\n",
        "print(test_data[test_data['CryoSleep'].isnull()])\n"
      ],
      "metadata": {
        "colab": {
          "base_uri": "https://localhost:8080/"
        },
        "id": "w-hariY8dwcI",
        "outputId": "e4fec41c-c6e8-4fa9-d466-6a8e57fe6361"
      },
      "execution_count": 11,
      "outputs": [
        {
          "output_type": "stream",
          "name": "stdout",
          "text": [
            "Empty DataFrame\n",
            "Columns: [PassengerId, CryoSleep, Cabin, Age, VIP, RoomService, FoodCourt, ShoppingMall, Spa, VRDeck, Name, Transported, HomePlanet_Earth, HomePlanet_Europa, HomePlanet_Mars, HomePlanet, Destination_55 Cancri e, Destination_PSO J318.5-22, Destination_TRAPPIST-1e, Destination]\n",
            "Index: []\n",
            "Empty DataFrame\n",
            "Columns: [PassengerId, CryoSleep, Cabin, Age, VIP, RoomService, FoodCourt, ShoppingMall, Spa, VRDeck, Name, HomePlanet_Earth, HomePlanet_Europa, HomePlanet_Mars, HomePlanet, Destination_55 Cancri e, Destination_PSO J318.5-22, Destination_TRAPPIST-1e, Destination]\n",
            "Index: []\n"
          ]
        }
      ]
    },
    {
      "cell_type": "code",
      "source": [
        "# https://stackoverflow.com/questions/17383094/how-can-i-map-true-false-to-1-0-in-a-pandas-dataframe\n",
        "train_data[\"CryoSleep\"] = train_data[\"CryoSleep\"].astype(int)\n",
        "test_data[\"CryoSleep\"] = test_data[\"CryoSleep\"].astype(int)"
      ],
      "metadata": {
        "id": "5AmT-eFMhk0l"
      },
      "execution_count": 12,
      "outputs": []
    },
    {
      "cell_type": "markdown",
      "source": [
        "Here, the category of the column 'Cabin has been replaced with its depending join probability ranking with respect to Target column.\\\n",
        "\n",
        "We can neglect the the last element in the Cabin column, which mentions the side of the cabin. Since both the categories \"P\" and \"S\" are equally possible for the training dataset, we can.\\\n",
        "\n",
        "We can use this same join probability ranking for the test data set"
      ],
      "metadata": {
        "id": "9LJ_2iZv9NVY"
      }
    },
    {
      "cell_type": "code",
      "source": [
        "# Lets encode categorization for the column \"Cabin\"\n",
        "train_data[\"Side\"] = train_data['Cabin'].apply(lambda x: str(x)[-1])\n",
        "# train_data[\"Side\"] = train_data[\"Side\"].astype(int)\n",
        "set(train_data[\"Side\"])\n",
        "\n",
        "# Reference - targeted/guided encoding\n",
        "train_data['Cabin'] = train_data['Cabin'].astype(str).str[0]\n",
        "\n",
        "#Categorizing cabins and assingning them weightage based on mean transportation rate for passengers in each category\n",
        "print(train_data.groupby(['Cabin'])['Transported'].mean())\n",
        "\n",
        "# Ranking the categories based on the weightage assigned to them\n",
        "Encoded_Lables = train_data.groupby(['Cabin'])['Transported'].mean().sort_values().index\n",
        "print(Encoded_Lables)\n",
        "Encoded_Lables_Ranks = { k:i for i, k in enumerate(Encoded_Lables, 0) }\n",
        "print(Encoded_Lables_Ranks)\n",
        "train_data['Cabin_Encoded'] = train_data['Cabin'].map(Encoded_Lables_Ranks)\n",
        "\n",
        "\n",
        "# Applying the same transformation to test data\n",
        "# Lets encode categorization for the column \"Cabin\"\n",
        "test_data[\"Side\"] = test_data['Cabin'].apply(lambda x: str(x)[-1])\n",
        "# train_data[\"Side\"] = train_data[\"Side\"].astype(int)\n",
        "set(test_data[\"Side\"])\n",
        "\n",
        "# Reference - targeted/guided encoding\n",
        "test_data['Cabin'] = test_data['Cabin'].astype(str).str[0]\n",
        "\n",
        "# Finding categories of cabin in the test dataset\n",
        "set(test_data['Cabin'])\n",
        "\n",
        "# Uisng the ranking from the train data to categorize the cabins in test data\n",
        "test_data['Cabin_Encoded'] = test_data['Cabin'].map(Encoded_Lables_Ranks)\n",
        "test_data.head()"
      ],
      "metadata": {
        "colab": {
          "base_uri": "https://localhost:8080/",
          "height": 549
        },
        "id": "IxrUecTTjdPM",
        "outputId": "e143e52b-3efa-4f5c-84af-d7ee05b61bf9"
      },
      "execution_count": 13,
      "outputs": [
        {
          "output_type": "stream",
          "name": "stdout",
          "text": [
            "Cabin\n",
            "A    0.496094\n",
            "B    0.734275\n",
            "C    0.680054\n",
            "D    0.433054\n",
            "E    0.357306\n",
            "F    0.439871\n",
            "G    0.516217\n",
            "T    0.200000\n",
            "n    0.502513\n",
            "Name: Transported, dtype: float64\n",
            "Index(['T', 'E', 'D', 'F', 'A', 'n', 'G', 'C', 'B'], dtype='object', name='Cabin')\n",
            "{'T': 0, 'E': 1, 'D': 2, 'F': 3, 'A': 4, 'n': 5, 'G': 6, 'C': 7, 'B': 8}\n"
          ]
        },
        {
          "output_type": "execute_result",
          "data": {
            "text/html": [
              "\n",
              "  <div id=\"df-47e8cded-1913-43cc-8369-2b460495db6a\">\n",
              "    <div class=\"colab-df-container\">\n",
              "      <div>\n",
              "<style scoped>\n",
              "    .dataframe tbody tr th:only-of-type {\n",
              "        vertical-align: middle;\n",
              "    }\n",
              "\n",
              "    .dataframe tbody tr th {\n",
              "        vertical-align: top;\n",
              "    }\n",
              "\n",
              "    .dataframe thead th {\n",
              "        text-align: right;\n",
              "    }\n",
              "</style>\n",
              "<table border=\"1\" class=\"dataframe\">\n",
              "  <thead>\n",
              "    <tr style=\"text-align: right;\">\n",
              "      <th></th>\n",
              "      <th>PassengerId</th>\n",
              "      <th>CryoSleep</th>\n",
              "      <th>Cabin</th>\n",
              "      <th>Age</th>\n",
              "      <th>VIP</th>\n",
              "      <th>RoomService</th>\n",
              "      <th>FoodCourt</th>\n",
              "      <th>ShoppingMall</th>\n",
              "      <th>Spa</th>\n",
              "      <th>VRDeck</th>\n",
              "      <th>...</th>\n",
              "      <th>HomePlanet_Earth</th>\n",
              "      <th>HomePlanet_Europa</th>\n",
              "      <th>HomePlanet_Mars</th>\n",
              "      <th>HomePlanet</th>\n",
              "      <th>Destination_55 Cancri e</th>\n",
              "      <th>Destination_PSO J318.5-22</th>\n",
              "      <th>Destination_TRAPPIST-1e</th>\n",
              "      <th>Destination</th>\n",
              "      <th>Side</th>\n",
              "      <th>Cabin_Encoded</th>\n",
              "    </tr>\n",
              "  </thead>\n",
              "  <tbody>\n",
              "    <tr>\n",
              "      <th>0</th>\n",
              "      <td>1301</td>\n",
              "      <td>1</td>\n",
              "      <td>G</td>\n",
              "      <td>27.0</td>\n",
              "      <td>False</td>\n",
              "      <td>0.0</td>\n",
              "      <td>0.0</td>\n",
              "      <td>0.0</td>\n",
              "      <td>0.0</td>\n",
              "      <td>0.0</td>\n",
              "      <td>...</td>\n",
              "      <td>1.0</td>\n",
              "      <td>0.0</td>\n",
              "      <td>0.0</td>\n",
              "      <td>Earth</td>\n",
              "      <td>0.0</td>\n",
              "      <td>0.0</td>\n",
              "      <td>1.0</td>\n",
              "      <td>TRAPPIST-1e</td>\n",
              "      <td>S</td>\n",
              "      <td>6</td>\n",
              "    </tr>\n",
              "    <tr>\n",
              "      <th>1</th>\n",
              "      <td>1801</td>\n",
              "      <td>0</td>\n",
              "      <td>F</td>\n",
              "      <td>19.0</td>\n",
              "      <td>False</td>\n",
              "      <td>0.0</td>\n",
              "      <td>9.0</td>\n",
              "      <td>0.0</td>\n",
              "      <td>2823.0</td>\n",
              "      <td>0.0</td>\n",
              "      <td>...</td>\n",
              "      <td>1.0</td>\n",
              "      <td>0.0</td>\n",
              "      <td>0.0</td>\n",
              "      <td>Earth</td>\n",
              "      <td>0.0</td>\n",
              "      <td>0.0</td>\n",
              "      <td>1.0</td>\n",
              "      <td>TRAPPIST-1e</td>\n",
              "      <td>S</td>\n",
              "      <td>3</td>\n",
              "    </tr>\n",
              "    <tr>\n",
              "      <th>2</th>\n",
              "      <td>1901</td>\n",
              "      <td>1</td>\n",
              "      <td>C</td>\n",
              "      <td>31.0</td>\n",
              "      <td>False</td>\n",
              "      <td>0.0</td>\n",
              "      <td>0.0</td>\n",
              "      <td>0.0</td>\n",
              "      <td>0.0</td>\n",
              "      <td>0.0</td>\n",
              "      <td>...</td>\n",
              "      <td>0.0</td>\n",
              "      <td>1.0</td>\n",
              "      <td>0.0</td>\n",
              "      <td>Europa</td>\n",
              "      <td>1.0</td>\n",
              "      <td>0.0</td>\n",
              "      <td>0.0</td>\n",
              "      <td>55 Cancri e</td>\n",
              "      <td>S</td>\n",
              "      <td>7</td>\n",
              "    </tr>\n",
              "    <tr>\n",
              "      <th>3</th>\n",
              "      <td>2101</td>\n",
              "      <td>0</td>\n",
              "      <td>C</td>\n",
              "      <td>38.0</td>\n",
              "      <td>False</td>\n",
              "      <td>0.0</td>\n",
              "      <td>6652.0</td>\n",
              "      <td>0.0</td>\n",
              "      <td>181.0</td>\n",
              "      <td>585.0</td>\n",
              "      <td>...</td>\n",
              "      <td>0.0</td>\n",
              "      <td>1.0</td>\n",
              "      <td>0.0</td>\n",
              "      <td>Europa</td>\n",
              "      <td>0.0</td>\n",
              "      <td>0.0</td>\n",
              "      <td>1.0</td>\n",
              "      <td>TRAPPIST-1e</td>\n",
              "      <td>S</td>\n",
              "      <td>7</td>\n",
              "    </tr>\n",
              "    <tr>\n",
              "      <th>4</th>\n",
              "      <td>2301</td>\n",
              "      <td>0</td>\n",
              "      <td>F</td>\n",
              "      <td>20.0</td>\n",
              "      <td>False</td>\n",
              "      <td>10.0</td>\n",
              "      <td>0.0</td>\n",
              "      <td>635.0</td>\n",
              "      <td>0.0</td>\n",
              "      <td>0.0</td>\n",
              "      <td>...</td>\n",
              "      <td>1.0</td>\n",
              "      <td>0.0</td>\n",
              "      <td>0.0</td>\n",
              "      <td>Earth</td>\n",
              "      <td>0.0</td>\n",
              "      <td>0.0</td>\n",
              "      <td>1.0</td>\n",
              "      <td>TRAPPIST-1e</td>\n",
              "      <td>S</td>\n",
              "      <td>3</td>\n",
              "    </tr>\n",
              "  </tbody>\n",
              "</table>\n",
              "<p>5 rows × 21 columns</p>\n",
              "</div>\n",
              "      <button class=\"colab-df-convert\" onclick=\"convertToInteractive('df-47e8cded-1913-43cc-8369-2b460495db6a')\"\n",
              "              title=\"Convert this dataframe to an interactive table.\"\n",
              "              style=\"display:none;\">\n",
              "        \n",
              "  <svg xmlns=\"http://www.w3.org/2000/svg\" height=\"24px\"viewBox=\"0 0 24 24\"\n",
              "       width=\"24px\">\n",
              "    <path d=\"M0 0h24v24H0V0z\" fill=\"none\"/>\n",
              "    <path d=\"M18.56 5.44l.94 2.06.94-2.06 2.06-.94-2.06-.94-.94-2.06-.94 2.06-2.06.94zm-11 1L8.5 8.5l.94-2.06 2.06-.94-2.06-.94L8.5 2.5l-.94 2.06-2.06.94zm10 10l.94 2.06.94-2.06 2.06-.94-2.06-.94-.94-2.06-.94 2.06-2.06.94z\"/><path d=\"M17.41 7.96l-1.37-1.37c-.4-.4-.92-.59-1.43-.59-.52 0-1.04.2-1.43.59L10.3 9.45l-7.72 7.72c-.78.78-.78 2.05 0 2.83L4 21.41c.39.39.9.59 1.41.59.51 0 1.02-.2 1.41-.59l7.78-7.78 2.81-2.81c.8-.78.8-2.07 0-2.86zM5.41 20L4 18.59l7.72-7.72 1.47 1.35L5.41 20z\"/>\n",
              "  </svg>\n",
              "      </button>\n",
              "      \n",
              "  <style>\n",
              "    .colab-df-container {\n",
              "      display:flex;\n",
              "      flex-wrap:wrap;\n",
              "      gap: 12px;\n",
              "    }\n",
              "\n",
              "    .colab-df-convert {\n",
              "      background-color: #E8F0FE;\n",
              "      border: none;\n",
              "      border-radius: 50%;\n",
              "      cursor: pointer;\n",
              "      display: none;\n",
              "      fill: #1967D2;\n",
              "      height: 32px;\n",
              "      padding: 0 0 0 0;\n",
              "      width: 32px;\n",
              "    }\n",
              "\n",
              "    .colab-df-convert:hover {\n",
              "      background-color: #E2EBFA;\n",
              "      box-shadow: 0px 1px 2px rgba(60, 64, 67, 0.3), 0px 1px 3px 1px rgba(60, 64, 67, 0.15);\n",
              "      fill: #174EA6;\n",
              "    }\n",
              "\n",
              "    [theme=dark] .colab-df-convert {\n",
              "      background-color: #3B4455;\n",
              "      fill: #D2E3FC;\n",
              "    }\n",
              "\n",
              "    [theme=dark] .colab-df-convert:hover {\n",
              "      background-color: #434B5C;\n",
              "      box-shadow: 0px 1px 3px 1px rgba(0, 0, 0, 0.15);\n",
              "      filter: drop-shadow(0px 1px 2px rgba(0, 0, 0, 0.3));\n",
              "      fill: #FFFFFF;\n",
              "    }\n",
              "  </style>\n",
              "\n",
              "      <script>\n",
              "        const buttonEl =\n",
              "          document.querySelector('#df-47e8cded-1913-43cc-8369-2b460495db6a button.colab-df-convert');\n",
              "        buttonEl.style.display =\n",
              "          google.colab.kernel.accessAllowed ? 'block' : 'none';\n",
              "\n",
              "        async function convertToInteractive(key) {\n",
              "          const element = document.querySelector('#df-47e8cded-1913-43cc-8369-2b460495db6a');\n",
              "          const dataTable =\n",
              "            await google.colab.kernel.invokeFunction('convertToInteractive',\n",
              "                                                     [key], {});\n",
              "          if (!dataTable) return;\n",
              "\n",
              "          const docLinkHtml = 'Like what you see? Visit the ' +\n",
              "            '<a target=\"_blank\" href=https://colab.research.google.com/notebooks/data_table.ipynb>data table notebook</a>'\n",
              "            + ' to learn more about interactive tables.';\n",
              "          element.innerHTML = '';\n",
              "          dataTable['output_type'] = 'display_data';\n",
              "          await google.colab.output.renderOutput(dataTable, element);\n",
              "          const docLink = document.createElement('div');\n",
              "          docLink.innerHTML = docLinkHtml;\n",
              "          element.appendChild(docLink);\n",
              "        }\n",
              "      </script>\n",
              "    </div>\n",
              "  </div>\n",
              "  "
            ],
            "text/plain": [
              "   PassengerId  CryoSleep Cabin   Age    VIP  RoomService  FoodCourt  \\\n",
              "0         1301          1     G  27.0  False          0.0        0.0   \n",
              "1         1801          0     F  19.0  False          0.0        9.0   \n",
              "2         1901          1     C  31.0  False          0.0        0.0   \n",
              "3         2101          0     C  38.0  False          0.0     6652.0   \n",
              "4         2301          0     F  20.0  False         10.0        0.0   \n",
              "\n",
              "   ShoppingMall     Spa  VRDeck  ... HomePlanet_Earth  HomePlanet_Europa  \\\n",
              "0           0.0     0.0     0.0  ...              1.0                0.0   \n",
              "1           0.0  2823.0     0.0  ...              1.0                0.0   \n",
              "2           0.0     0.0     0.0  ...              0.0                1.0   \n",
              "3           0.0   181.0   585.0  ...              0.0                1.0   \n",
              "4         635.0     0.0     0.0  ...              1.0                0.0   \n",
              "\n",
              "   HomePlanet_Mars  HomePlanet Destination_55 Cancri e  \\\n",
              "0              0.0       Earth                     0.0   \n",
              "1              0.0       Earth                     0.0   \n",
              "2              0.0      Europa                     1.0   \n",
              "3              0.0      Europa                     0.0   \n",
              "4              0.0       Earth                     0.0   \n",
              "\n",
              "   Destination_PSO J318.5-22  Destination_TRAPPIST-1e  Destination Side  \\\n",
              "0                        0.0                      1.0  TRAPPIST-1e    S   \n",
              "1                        0.0                      1.0  TRAPPIST-1e    S   \n",
              "2                        0.0                      0.0  55 Cancri e    S   \n",
              "3                        0.0                      1.0  TRAPPIST-1e    S   \n",
              "4                        0.0                      1.0  TRAPPIST-1e    S   \n",
              "\n",
              "  Cabin_Encoded  \n",
              "0             6  \n",
              "1             3  \n",
              "2             7  \n",
              "3             7  \n",
              "4             3  \n",
              "\n",
              "[5 rows x 21 columns]"
            ]
          },
          "metadata": {},
          "execution_count": 13
        }
      ]
    },
    {
      "cell_type": "markdown",
      "source": [
        "In the \"VIP\" column we observe that a large amount of values are labled as False. Which means that most of the passengers belong to non-VIP section. So, here we will encode the value by maping the True and False labels to counts of the respective classes.Assuming the missing values as Missing Completely at Randome (MCAR), there is no dependence of this column or any other predictor. Thus, we can replace values with count of the class in majority. In this case it is the non-VIP class."
      ],
      "metadata": {
        "id": "7GXd65Ir2WEu"
      }
    },
    {
      "cell_type": "code",
      "source": [
        "VIP_Dict = train_data['VIP'].value_counts()\n",
        "train_data['Encoded_VIP'] = train_data['VIP'].map(VIP_Dict)\n",
        "train_data['Encoded_VIP'] = train_data['Encoded_VIP'].apply(lambda x: x/(VIP_Dict[0]+VIP_Dict[1]))\n",
        "train_data['Encoded_VIP'].fillna(VIP_Dict[0]/(VIP_Dict[0]+VIP_Dict[1]), inplace = True)\n",
        "print(train_data.head())\n",
        "\n",
        "# Applying the same transformation for test data\n",
        "VIP_Dict_test = test_data['VIP'].value_counts()\n",
        "test_data['Encoded_VIP'] = test_data['VIP'].map(VIP_Dict_test)\n",
        "test_data['Encoded_VIP'] = test_data['Encoded_VIP'].apply(lambda x: x/(VIP_Dict_test[0]+VIP_Dict_test[1]))\n",
        "test_data['Encoded_VIP'].fillna(VIP_Dict_test[0]/(VIP_Dict_test[0]+VIP_Dict_test[1]), inplace = True)\n",
        "test_data.head()"
      ],
      "metadata": {
        "colab": {
          "base_uri": "https://localhost:8080/",
          "height": 835
        },
        "id": "-XdSnPCfjdyN",
        "outputId": "d36364d3-8098-414f-8981-ac057ca14f16"
      },
      "execution_count": 14,
      "outputs": [
        {
          "output_type": "stream",
          "name": "stdout",
          "text": [
            "   PassengerId  CryoSleep Cabin   Age    VIP  RoomService  FoodCourt  \\\n",
            "0          101          0     B  39.0  False          0.0        0.0   \n",
            "1          201          0     F  24.0  False        109.0        9.0   \n",
            "2          301          0     A  58.0   True         43.0     3576.0   \n",
            "3          302          0     A  33.0  False          0.0     1283.0   \n",
            "4          401          0     F  16.0  False        303.0       70.0   \n",
            "\n",
            "   ShoppingMall     Spa  VRDeck  ... HomePlanet_Europa  HomePlanet_Mars  \\\n",
            "0           0.0     0.0     0.0  ...               1.0              0.0   \n",
            "1          25.0   549.0    44.0  ...               0.0              0.0   \n",
            "2           0.0  6715.0    49.0  ...               1.0              0.0   \n",
            "3         371.0  3329.0   193.0  ...               1.0              0.0   \n",
            "4         151.0   565.0     2.0  ...               0.0              0.0   \n",
            "\n",
            "   HomePlanet  Destination_55 Cancri e  Destination_PSO J318.5-22  \\\n",
            "0      Europa                      0.0                        0.0   \n",
            "1       Earth                      0.0                        0.0   \n",
            "2      Europa                      0.0                        0.0   \n",
            "3      Europa                      0.0                        0.0   \n",
            "4       Earth                      0.0                        0.0   \n",
            "\n",
            "  Destination_TRAPPIST-1e  Destination  Side  Cabin_Encoded Encoded_VIP  \n",
            "0                     1.0  TRAPPIST-1e     P              8    0.976561  \n",
            "1                     1.0  TRAPPIST-1e     S              3    0.976561  \n",
            "2                     1.0  TRAPPIST-1e     S              4    0.023439  \n",
            "3                     1.0  TRAPPIST-1e     S              4    0.976561  \n",
            "4                     1.0  TRAPPIST-1e     S              3    0.976561  \n",
            "\n",
            "[5 rows x 23 columns]\n"
          ]
        },
        {
          "output_type": "execute_result",
          "data": {
            "text/html": [
              "\n",
              "  <div id=\"df-11160754-590c-4f7b-b963-466515cb51f9\">\n",
              "    <div class=\"colab-df-container\">\n",
              "      <div>\n",
              "<style scoped>\n",
              "    .dataframe tbody tr th:only-of-type {\n",
              "        vertical-align: middle;\n",
              "    }\n",
              "\n",
              "    .dataframe tbody tr th {\n",
              "        vertical-align: top;\n",
              "    }\n",
              "\n",
              "    .dataframe thead th {\n",
              "        text-align: right;\n",
              "    }\n",
              "</style>\n",
              "<table border=\"1\" class=\"dataframe\">\n",
              "  <thead>\n",
              "    <tr style=\"text-align: right;\">\n",
              "      <th></th>\n",
              "      <th>PassengerId</th>\n",
              "      <th>CryoSleep</th>\n",
              "      <th>Cabin</th>\n",
              "      <th>Age</th>\n",
              "      <th>VIP</th>\n",
              "      <th>RoomService</th>\n",
              "      <th>FoodCourt</th>\n",
              "      <th>ShoppingMall</th>\n",
              "      <th>Spa</th>\n",
              "      <th>VRDeck</th>\n",
              "      <th>...</th>\n",
              "      <th>HomePlanet_Europa</th>\n",
              "      <th>HomePlanet_Mars</th>\n",
              "      <th>HomePlanet</th>\n",
              "      <th>Destination_55 Cancri e</th>\n",
              "      <th>Destination_PSO J318.5-22</th>\n",
              "      <th>Destination_TRAPPIST-1e</th>\n",
              "      <th>Destination</th>\n",
              "      <th>Side</th>\n",
              "      <th>Cabin_Encoded</th>\n",
              "      <th>Encoded_VIP</th>\n",
              "    </tr>\n",
              "  </thead>\n",
              "  <tbody>\n",
              "    <tr>\n",
              "      <th>0</th>\n",
              "      <td>1301</td>\n",
              "      <td>1</td>\n",
              "      <td>G</td>\n",
              "      <td>27.0</td>\n",
              "      <td>False</td>\n",
              "      <td>0.0</td>\n",
              "      <td>0.0</td>\n",
              "      <td>0.0</td>\n",
              "      <td>0.0</td>\n",
              "      <td>0.0</td>\n",
              "      <td>...</td>\n",
              "      <td>0.0</td>\n",
              "      <td>0.0</td>\n",
              "      <td>Earth</td>\n",
              "      <td>0.0</td>\n",
              "      <td>0.0</td>\n",
              "      <td>1.0</td>\n",
              "      <td>TRAPPIST-1e</td>\n",
              "      <td>S</td>\n",
              "      <td>6</td>\n",
              "      <td>0.982314</td>\n",
              "    </tr>\n",
              "    <tr>\n",
              "      <th>1</th>\n",
              "      <td>1801</td>\n",
              "      <td>0</td>\n",
              "      <td>F</td>\n",
              "      <td>19.0</td>\n",
              "      <td>False</td>\n",
              "      <td>0.0</td>\n",
              "      <td>9.0</td>\n",
              "      <td>0.0</td>\n",
              "      <td>2823.0</td>\n",
              "      <td>0.0</td>\n",
              "      <td>...</td>\n",
              "      <td>0.0</td>\n",
              "      <td>0.0</td>\n",
              "      <td>Earth</td>\n",
              "      <td>0.0</td>\n",
              "      <td>0.0</td>\n",
              "      <td>1.0</td>\n",
              "      <td>TRAPPIST-1e</td>\n",
              "      <td>S</td>\n",
              "      <td>3</td>\n",
              "      <td>0.982314</td>\n",
              "    </tr>\n",
              "    <tr>\n",
              "      <th>2</th>\n",
              "      <td>1901</td>\n",
              "      <td>1</td>\n",
              "      <td>C</td>\n",
              "      <td>31.0</td>\n",
              "      <td>False</td>\n",
              "      <td>0.0</td>\n",
              "      <td>0.0</td>\n",
              "      <td>0.0</td>\n",
              "      <td>0.0</td>\n",
              "      <td>0.0</td>\n",
              "      <td>...</td>\n",
              "      <td>1.0</td>\n",
              "      <td>0.0</td>\n",
              "      <td>Europa</td>\n",
              "      <td>1.0</td>\n",
              "      <td>0.0</td>\n",
              "      <td>0.0</td>\n",
              "      <td>55 Cancri e</td>\n",
              "      <td>S</td>\n",
              "      <td>7</td>\n",
              "      <td>0.982314</td>\n",
              "    </tr>\n",
              "    <tr>\n",
              "      <th>3</th>\n",
              "      <td>2101</td>\n",
              "      <td>0</td>\n",
              "      <td>C</td>\n",
              "      <td>38.0</td>\n",
              "      <td>False</td>\n",
              "      <td>0.0</td>\n",
              "      <td>6652.0</td>\n",
              "      <td>0.0</td>\n",
              "      <td>181.0</td>\n",
              "      <td>585.0</td>\n",
              "      <td>...</td>\n",
              "      <td>1.0</td>\n",
              "      <td>0.0</td>\n",
              "      <td>Europa</td>\n",
              "      <td>0.0</td>\n",
              "      <td>0.0</td>\n",
              "      <td>1.0</td>\n",
              "      <td>TRAPPIST-1e</td>\n",
              "      <td>S</td>\n",
              "      <td>7</td>\n",
              "      <td>0.982314</td>\n",
              "    </tr>\n",
              "    <tr>\n",
              "      <th>4</th>\n",
              "      <td>2301</td>\n",
              "      <td>0</td>\n",
              "      <td>F</td>\n",
              "      <td>20.0</td>\n",
              "      <td>False</td>\n",
              "      <td>10.0</td>\n",
              "      <td>0.0</td>\n",
              "      <td>635.0</td>\n",
              "      <td>0.0</td>\n",
              "      <td>0.0</td>\n",
              "      <td>...</td>\n",
              "      <td>0.0</td>\n",
              "      <td>0.0</td>\n",
              "      <td>Earth</td>\n",
              "      <td>0.0</td>\n",
              "      <td>0.0</td>\n",
              "      <td>1.0</td>\n",
              "      <td>TRAPPIST-1e</td>\n",
              "      <td>S</td>\n",
              "      <td>3</td>\n",
              "      <td>0.982314</td>\n",
              "    </tr>\n",
              "  </tbody>\n",
              "</table>\n",
              "<p>5 rows × 22 columns</p>\n",
              "</div>\n",
              "      <button class=\"colab-df-convert\" onclick=\"convertToInteractive('df-11160754-590c-4f7b-b963-466515cb51f9')\"\n",
              "              title=\"Convert this dataframe to an interactive table.\"\n",
              "              style=\"display:none;\">\n",
              "        \n",
              "  <svg xmlns=\"http://www.w3.org/2000/svg\" height=\"24px\"viewBox=\"0 0 24 24\"\n",
              "       width=\"24px\">\n",
              "    <path d=\"M0 0h24v24H0V0z\" fill=\"none\"/>\n",
              "    <path d=\"M18.56 5.44l.94 2.06.94-2.06 2.06-.94-2.06-.94-.94-2.06-.94 2.06-2.06.94zm-11 1L8.5 8.5l.94-2.06 2.06-.94-2.06-.94L8.5 2.5l-.94 2.06-2.06.94zm10 10l.94 2.06.94-2.06 2.06-.94-2.06-.94-.94-2.06-.94 2.06-2.06.94z\"/><path d=\"M17.41 7.96l-1.37-1.37c-.4-.4-.92-.59-1.43-.59-.52 0-1.04.2-1.43.59L10.3 9.45l-7.72 7.72c-.78.78-.78 2.05 0 2.83L4 21.41c.39.39.9.59 1.41.59.51 0 1.02-.2 1.41-.59l7.78-7.78 2.81-2.81c.8-.78.8-2.07 0-2.86zM5.41 20L4 18.59l7.72-7.72 1.47 1.35L5.41 20z\"/>\n",
              "  </svg>\n",
              "      </button>\n",
              "      \n",
              "  <style>\n",
              "    .colab-df-container {\n",
              "      display:flex;\n",
              "      flex-wrap:wrap;\n",
              "      gap: 12px;\n",
              "    }\n",
              "\n",
              "    .colab-df-convert {\n",
              "      background-color: #E8F0FE;\n",
              "      border: none;\n",
              "      border-radius: 50%;\n",
              "      cursor: pointer;\n",
              "      display: none;\n",
              "      fill: #1967D2;\n",
              "      height: 32px;\n",
              "      padding: 0 0 0 0;\n",
              "      width: 32px;\n",
              "    }\n",
              "\n",
              "    .colab-df-convert:hover {\n",
              "      background-color: #E2EBFA;\n",
              "      box-shadow: 0px 1px 2px rgba(60, 64, 67, 0.3), 0px 1px 3px 1px rgba(60, 64, 67, 0.15);\n",
              "      fill: #174EA6;\n",
              "    }\n",
              "\n",
              "    [theme=dark] .colab-df-convert {\n",
              "      background-color: #3B4455;\n",
              "      fill: #D2E3FC;\n",
              "    }\n",
              "\n",
              "    [theme=dark] .colab-df-convert:hover {\n",
              "      background-color: #434B5C;\n",
              "      box-shadow: 0px 1px 3px 1px rgba(0, 0, 0, 0.15);\n",
              "      filter: drop-shadow(0px 1px 2px rgba(0, 0, 0, 0.3));\n",
              "      fill: #FFFFFF;\n",
              "    }\n",
              "  </style>\n",
              "\n",
              "      <script>\n",
              "        const buttonEl =\n",
              "          document.querySelector('#df-11160754-590c-4f7b-b963-466515cb51f9 button.colab-df-convert');\n",
              "        buttonEl.style.display =\n",
              "          google.colab.kernel.accessAllowed ? 'block' : 'none';\n",
              "\n",
              "        async function convertToInteractive(key) {\n",
              "          const element = document.querySelector('#df-11160754-590c-4f7b-b963-466515cb51f9');\n",
              "          const dataTable =\n",
              "            await google.colab.kernel.invokeFunction('convertToInteractive',\n",
              "                                                     [key], {});\n",
              "          if (!dataTable) return;\n",
              "\n",
              "          const docLinkHtml = 'Like what you see? Visit the ' +\n",
              "            '<a target=\"_blank\" href=https://colab.research.google.com/notebooks/data_table.ipynb>data table notebook</a>'\n",
              "            + ' to learn more about interactive tables.';\n",
              "          element.innerHTML = '';\n",
              "          dataTable['output_type'] = 'display_data';\n",
              "          await google.colab.output.renderOutput(dataTable, element);\n",
              "          const docLink = document.createElement('div');\n",
              "          docLink.innerHTML = docLinkHtml;\n",
              "          element.appendChild(docLink);\n",
              "        }\n",
              "      </script>\n",
              "    </div>\n",
              "  </div>\n",
              "  "
            ],
            "text/plain": [
              "   PassengerId  CryoSleep Cabin   Age    VIP  RoomService  FoodCourt  \\\n",
              "0         1301          1     G  27.0  False          0.0        0.0   \n",
              "1         1801          0     F  19.0  False          0.0        9.0   \n",
              "2         1901          1     C  31.0  False          0.0        0.0   \n",
              "3         2101          0     C  38.0  False          0.0     6652.0   \n",
              "4         2301          0     F  20.0  False         10.0        0.0   \n",
              "\n",
              "   ShoppingMall     Spa  VRDeck  ... HomePlanet_Europa  HomePlanet_Mars  \\\n",
              "0           0.0     0.0     0.0  ...               0.0              0.0   \n",
              "1           0.0  2823.0     0.0  ...               0.0              0.0   \n",
              "2           0.0     0.0     0.0  ...               1.0              0.0   \n",
              "3           0.0   181.0   585.0  ...               1.0              0.0   \n",
              "4         635.0     0.0     0.0  ...               0.0              0.0   \n",
              "\n",
              "   HomePlanet  Destination_55 Cancri e Destination_PSO J318.5-22  \\\n",
              "0       Earth                      0.0                       0.0   \n",
              "1       Earth                      0.0                       0.0   \n",
              "2      Europa                      1.0                       0.0   \n",
              "3      Europa                      0.0                       0.0   \n",
              "4       Earth                      0.0                       0.0   \n",
              "\n",
              "   Destination_TRAPPIST-1e  Destination  Side Cabin_Encoded Encoded_VIP  \n",
              "0                      1.0  TRAPPIST-1e     S             6    0.982314  \n",
              "1                      1.0  TRAPPIST-1e     S             3    0.982314  \n",
              "2                      0.0  55 Cancri e     S             7    0.982314  \n",
              "3                      1.0  TRAPPIST-1e     S             7    0.982314  \n",
              "4                      1.0  TRAPPIST-1e     S             3    0.982314  \n",
              "\n",
              "[5 rows x 22 columns]"
            ]
          },
          "metadata": {},
          "execution_count": 14
        }
      ]
    },
    {
      "cell_type": "markdown",
      "source": [
        "Since we have a lot of missing values in the Age column, we need to fill/impute these values with mean, median or mode.\n",
        "To check the distributionwe plot the box and distribution plot from the seaborn library"
      ],
      "metadata": {
        "id": "eVK1KmS0wfkP"
      }
    },
    {
      "cell_type": "code",
      "source": [
        "print(\"The mean age is: \",train_data['Age'].mean())\n",
        "print(\"The median age is: \", train_data['Age'].median())\n",
        "print(\"The mode age is: \", train_data['Age'].mode())"
      ],
      "metadata": {
        "colab": {
          "base_uri": "https://localhost:8080/"
        },
        "id": "WsxME7FYs3fM",
        "outputId": "c5e7829e-9fbd-4abd-ae53-17ee7377c2ca"
      },
      "execution_count": 15,
      "outputs": [
        {
          "output_type": "stream",
          "name": "stdout",
          "text": [
            "The mean age is:  28.82793046746535\n",
            "The median age is:  27.0\n",
            "The mode age is:  0    24.0\n",
            "dtype: float64\n"
          ]
        }
      ]
    },
    {
      "cell_type": "code",
      "source": [
        "# https://vitalflux.com/pandas-impute-missing-values-mean-median-mode/\n",
        "# Boxplot for age distribution\n",
        "sns.boxplot(train_data.Age)\n",
        "plt.show()\n",
        "sns.boxplot(test_data.Age)\n",
        "plt.show()"
      ],
      "metadata": {
        "colab": {
          "base_uri": "https://localhost:8080/",
          "height": 632
        },
        "id": "EZSiTBONvTdj",
        "outputId": "de9f2e6d-f4d9-4f50-bf6e-4b2e2eb87303"
      },
      "execution_count": 16,
      "outputs": [
        {
          "output_type": "stream",
          "name": "stderr",
          "text": [
            "/usr/local/lib/python3.7/dist-packages/seaborn/_decorators.py:43: FutureWarning: Pass the following variable as a keyword arg: x. From version 0.12, the only valid positional argument will be `data`, and passing other arguments without an explicit keyword will result in an error or misinterpretation.\n",
            "  FutureWarning\n"
          ]
        },
        {
          "output_type": "display_data",
          "data": {
            "image/png": "[encoded data removed]",
            "text/plain": [
              "<Figure size 432x288 with 1 Axes>"
            ]
          },
          "metadata": {
            "needs_background": "light"
          }
        },
        {
          "output_type": "stream",
          "name": "stderr",
          "text": [
            "/usr/local/lib/python3.7/dist-packages/seaborn/_decorators.py:43: FutureWarning: Pass the following variable as a keyword arg: x. From version 0.12, the only valid positional argument will be `data`, and passing other arguments without an explicit keyword will result in an error or misinterpretation.\n",
            "  FutureWarning\n"
          ]
        },
        {
          "output_type": "display_data",
          "data": {
            "image/png": "[encoded data removed]",
            "text/plain": [
              "<Figure size 432x288 with 1 Axes>"
            ]
          },
          "metadata": {
            "needs_background": "light"
          }
        }
      ]
    },
    {
      "cell_type": "code",
      "source": [
        "# Distribution plot for age distribution\n",
        "sns.distplot(train_data.Age)\n",
        "plt.show()\n",
        "sns.distplot(test_data.Age)\n",
        "plt.show()"
      ],
      "metadata": {
        "colab": {
          "base_uri": "https://localhost:8080/",
          "height": 634
        },
        "id": "NkQ4vUAkvfuo",
        "outputId": "709feebc-6faa-4bfe-f8ba-0ef1c4e1de66"
      },
      "execution_count": 17,
      "outputs": [
        {
          "output_type": "stream",
          "name": "stderr",
          "text": [
            "/usr/local/lib/python3.7/dist-packages/seaborn/distributions.py:2619: FutureWarning: `distplot` is a deprecated function and will be removed in a future version. Please adapt your code to use either `displot` (a figure-level function with similar flexibility) or `histplot` (an axes-level function for histograms).\n",
            "  warnings.warn(msg, FutureWarning)\n"
          ]
        },
        {
          "output_type": "display_data",
          "data": {
            "image/png": "[encoded data removed]",
            "text/plain": [
              "<Figure size 432x288 with 1 Axes>"
            ]
          },
          "metadata": {
            "needs_background": "light"
          }
        },
        {
          "output_type": "stream",
          "name": "stderr",
          "text": [
            "/usr/local/lib/python3.7/dist-packages/seaborn/distributions.py:2619: FutureWarning: `distplot` is a deprecated function and will be removed in a future version. Please adapt your code to use either `displot` (a figure-level function with similar flexibility) or `histplot` (an axes-level function for histograms).\n",
            "  warnings.warn(msg, FutureWarning)\n"
          ]
        },
        {
          "output_type": "display_data",
          "data": {
            "image/png": "[encoded data removed]",
            "text/plain": [
              "<Figure size 432x288 with 1 Axes>"
            ]
          },
          "metadata": {
            "needs_background": "light"
          }
        }
      ]
    },
    {
      "cell_type": "markdown",
      "source": [
        "We conclude that the data is right-skewed, with a moderately large amount of outliers. So we choose the median for imputing missing values.\\\n",
        "\n",
        "We can apply the same tranformation to test data since the test data is also skewed\n"
      ],
      "metadata": {
        "id": "RWsY1Of4w2oB"
      }
    },
    {
      "cell_type": "code",
      "source": [
        "# Replacing the null values with median of the Age\n",
        "train_data['Age'].fillna(train_data['Age'].median(), inplace = True)\n",
        "train_data.to_csv(\"data.csv\")\n",
        "# confirmation of removal of all the null values in data\n",
        "print(train_data[train_data['Age'].isna()])\n",
        "\n",
        "# Applying the same transformation to test data\n",
        "test_data['Age'].fillna(test_data['Age'].median(), inplace = True)\n",
        "# confirmation of removal of all the null values in data\n",
        "print(test_data[test_data['Age'].isna()])\n"
      ],
      "metadata": {
        "colab": {
          "base_uri": "https://localhost:8080/"
        },
        "id": "xC2PrbJuxH5y",
        "outputId": "7d58cc99-bd98-424e-e5d1-e755b4860e91"
      },
      "execution_count": 18,
      "outputs": [
        {
          "output_type": "stream",
          "name": "stdout",
          "text": [
            "Empty DataFrame\n",
            "Columns: [PassengerId, CryoSleep, Cabin, Age, VIP, RoomService, FoodCourt, ShoppingMall, Spa, VRDeck, Name, Transported, HomePlanet_Earth, HomePlanet_Europa, HomePlanet_Mars, HomePlanet, Destination_55 Cancri e, Destination_PSO J318.5-22, Destination_TRAPPIST-1e, Destination, Side, Cabin_Encoded, Encoded_VIP]\n",
            "Index: []\n",
            "\n",
            "[0 rows x 23 columns]\n",
            "Empty DataFrame\n",
            "Columns: [PassengerId, CryoSleep, Cabin, Age, VIP, RoomService, FoodCourt, ShoppingMall, Spa, VRDeck, Name, HomePlanet_Earth, HomePlanet_Europa, HomePlanet_Mars, HomePlanet, Destination_55 Cancri e, Destination_PSO J318.5-22, Destination_TRAPPIST-1e, Destination, Side, Cabin_Encoded, Encoded_VIP]\n",
            "Index: []\n",
            "\n",
            "[0 rows x 22 columns]\n"
          ]
        }
      ]
    },
    {
      "cell_type": "markdown",
      "source": [
        "Here we will remove the column 'Encoded_VIP' as we see that it does not contribute much to the data looking at its uneven distribution. Around 95 precent of the data in the training set is marked as False for VIP. So we drop this column."
      ],
      "metadata": {
        "id": "SMhq8i1-uqct"
      }
    },
    {
      "cell_type": "code",
      "source": [
        "# selecting relevant columns\n",
        "train_data_clean = train_data.drop(columns = ['Cabin','VIP','Name', 'HomePlanet','Destination','Side','Encoded_VIP'])\n",
        "print(train_data_clean.head())\n",
        "\n",
        "#selecting the relevant columns from test data\n",
        "test_data_clean = test_data.drop(columns = ['Cabin','VIP','Name', 'HomePlanet','Destination','Side','Encoded_VIP'])\n",
        "print(test_data_clean.head())"
      ],
      "metadata": {
        "colab": {
          "base_uri": "https://localhost:8080/"
        },
        "id": "ijpRjyvRQp5t",
        "outputId": "65b611df-bdb7-4999-e685-e0cf8ff18848"
      },
      "execution_count": 19,
      "outputs": [
        {
          "output_type": "stream",
          "name": "stdout",
          "text": [
            "   PassengerId  CryoSleep   Age  RoomService  FoodCourt  ShoppingMall     Spa  \\\n",
            "0          101          0  39.0          0.0        0.0           0.0     0.0   \n",
            "1          201          0  24.0        109.0        9.0          25.0   549.0   \n",
            "2          301          0  58.0         43.0     3576.0           0.0  6715.0   \n",
            "3          302          0  33.0          0.0     1283.0         371.0  3329.0   \n",
            "4          401          0  16.0        303.0       70.0         151.0   565.0   \n",
            "\n",
            "   VRDeck  Transported  HomePlanet_Earth  HomePlanet_Europa  HomePlanet_Mars  \\\n",
            "0     0.0        False               0.0                1.0              0.0   \n",
            "1    44.0         True               1.0                0.0              0.0   \n",
            "2    49.0        False               0.0                1.0              0.0   \n",
            "3   193.0        False               0.0                1.0              0.0   \n",
            "4     2.0         True               1.0                0.0              0.0   \n",
            "\n",
            "   Destination_55 Cancri e  Destination_PSO J318.5-22  \\\n",
            "0                      0.0                        0.0   \n",
            "1                      0.0                        0.0   \n",
            "2                      0.0                        0.0   \n",
            "3                      0.0                        0.0   \n",
            "4                      0.0                        0.0   \n",
            "\n",
            "   Destination_TRAPPIST-1e  Cabin_Encoded  \n",
            "0                      1.0              8  \n",
            "1                      1.0              3  \n",
            "2                      1.0              4  \n",
            "3                      1.0              4  \n",
            "4                      1.0              3  \n",
            "   PassengerId  CryoSleep   Age  RoomService  FoodCourt  ShoppingMall     Spa  \\\n",
            "0         1301          1  27.0          0.0        0.0           0.0     0.0   \n",
            "1         1801          0  19.0          0.0        9.0           0.0  2823.0   \n",
            "2         1901          1  31.0          0.0        0.0           0.0     0.0   \n",
            "3         2101          0  38.0          0.0     6652.0           0.0   181.0   \n",
            "4         2301          0  20.0         10.0        0.0         635.0     0.0   \n",
            "\n",
            "   VRDeck  HomePlanet_Earth  HomePlanet_Europa  HomePlanet_Mars  \\\n",
            "0     0.0               1.0                0.0              0.0   \n",
            "1     0.0               1.0                0.0              0.0   \n",
            "2     0.0               0.0                1.0              0.0   \n",
            "3   585.0               0.0                1.0              0.0   \n",
            "4     0.0               1.0                0.0              0.0   \n",
            "\n",
            "   Destination_55 Cancri e  Destination_PSO J318.5-22  \\\n",
            "0                      0.0                        0.0   \n",
            "1                      0.0                        0.0   \n",
            "2                      1.0                        0.0   \n",
            "3                      0.0                        0.0   \n",
            "4                      0.0                        0.0   \n",
            "\n",
            "   Destination_TRAPPIST-1e  Cabin_Encoded  \n",
            "0                      1.0              6  \n",
            "1                      1.0              3  \n",
            "2                      0.0              7  \n",
            "3                      1.0              7  \n",
            "4                      1.0              3  \n"
          ]
        }
      ]
    },
    {
      "cell_type": "markdown",
      "source": [
        "Let us plot a distibution plot for the numerical variables -  'RoomService', 'FoodCourt', 'ShoppingMall', 'Spa', 'VRDeck'."
      ],
      "metadata": {
        "id": "hvc7SeXrWQ9e"
      }
    },
    {
      "cell_type": "code",
      "source": [
        "num = ['RoomService', 'FoodCourt', 'ShoppingMall', 'Spa', 'VRDeck']\n",
        "for ele in num:\n",
        "  sns.distplot(train_data_clean[ele])\n",
        "  plt.show()\n",
        "  sns.boxplot(train_data_clean[ele])\n",
        "  plt.show()\n",
        "  print(\"Mean: \", train_data_clean[ele].mean())\n",
        "  print(\"Median: \", train_data_clean[ele].median())\n",
        "  print(\"Mode: \", train_data_clean[ele].mode()[0])\n",
        "  print(\"Amount of entries with 0 in \",ele,\": \",len(train_data_clean[train_data_clean[ele] == 0])*100/len(train_data_clean))\n"
      ],
      "metadata": {
        "colab": {
          "base_uri": "https://localhost:8080/",
          "height": 1000
        },
        "id": "YGYshPadS9Zj",
        "outputId": "5b1dd1ab-011a-4a7f-bbac-dd2a59e509a7"
      },
      "execution_count": 20,
      "outputs": [
        {
          "output_type": "stream",
          "name": "stderr",
          "text": [
            "/usr/local/lib/python3.7/dist-packages/seaborn/distributions.py:2619: FutureWarning: `distplot` is a deprecated function and will be removed in a future version. Please adapt your code to use either `displot` (a figure-level function with similar flexibility) or `histplot` (an axes-level function for histograms).\n",
            "  warnings.warn(msg, FutureWarning)\n"
          ]
        },
        {
          "output_type": "display_data",
          "data": {
            "image/png": "[encoded data removed]",
            "text/plain": [
              "<Figure size 432x288 with 1 Axes>"
            ]
          },
          "metadata": {
            "needs_background": "light"
          }
        },
        {
          "output_type": "stream",
          "name": "stderr",
          "text": [
            "/usr/local/lib/python3.7/dist-packages/seaborn/_decorators.py:43: FutureWarning: Pass the following variable as a keyword arg: x. From version 0.12, the only valid positional argument will be `data`, and passing other arguments without an explicit keyword will result in an error or misinterpretation.\n",
            "  FutureWarning\n"
          ]
        },
        {
          "output_type": "display_data",
          "data": {
            "image/png": "[encoded data removed]",
            "text/plain": [
              "<Figure size 432x288 with 1 Axes>"
            ]
          },
          "metadata": {
            "needs_background": "light"
          }
        },
        {
          "output_type": "stream",
          "name": "stderr",
          "text": [
            "/usr/local/lib/python3.7/dist-packages/seaborn/distributions.py:2619: FutureWarning: `distplot` is a deprecated function and will be removed in a future version. Please adapt your code to use either `displot` (a figure-level function with similar flexibility) or `histplot` (an axes-level function for histograms).\n",
            "  warnings.warn(msg, FutureWarning)\n"
          ]
        },
        {
          "output_type": "stream",
          "name": "stdout",
          "text": [
            "Mean:  222.90687645687646\n",
            "Median:  0.0\n",
            "Mode:  0.0\n",
            "Amount of entries with 0 in  RoomService :  64.93730587829288\n"
          ]
        },
        {
          "output_type": "display_data",
          "data": {
            "image/png": "[encoded data removed]",
            "text/plain": [
              "<Figure size 432x288 with 1 Axes>"
            ]
          },
          "metadata": {
            "needs_background": "light"
          }
        },
        {
          "output_type": "stream",
          "name": "stderr",
          "text": [
            "/usr/local/lib/python3.7/dist-packages/seaborn/_decorators.py:43: FutureWarning: Pass the following variable as a keyword arg: x. From version 0.12, the only valid positional argument will be `data`, and passing other arguments without an explicit keyword will result in an error or misinterpretation.\n",
            "  FutureWarning\n"
          ]
        },
        {
          "output_type": "display_data",
          "data": {
            "image/png": "[encoded data removed]",
            "text/plain": [
              "<Figure size 432x288 with 1 Axes>"
            ]
          },
          "metadata": {
            "needs_background": "light"
          }
        },
        {
          "output_type": "stream",
          "name": "stdout",
          "text": [
            "Mean:  454.28702948374314\n",
            "Median:  0.0\n",
            "Mode:  0.0\n",
            "Amount of entries with 0 in  FoodCourt :  63.57989186701944\n"
          ]
        },
        {
          "output_type": "stream",
          "name": "stderr",
          "text": [
            "/usr/local/lib/python3.7/dist-packages/seaborn/distributions.py:2619: FutureWarning: `distplot` is a deprecated function and will be removed in a future version. Please adapt your code to use either `displot` (a figure-level function with similar flexibility) or `histplot` (an axes-level function for histograms).\n",
            "  warnings.warn(msg, FutureWarning)\n"
          ]
        },
        {
          "output_type": "display_data",
          "data": {
            "image/png": "[encoded data removed]",
            "text/plain": [
              "<Figure size 432x288 with 1 Axes>"
            ]
          },
          "metadata": {
            "needs_background": "light"
          }
        },
        {
          "output_type": "stream",
          "name": "stderr",
          "text": [
            "/usr/local/lib/python3.7/dist-packages/seaborn/_decorators.py:43: FutureWarning: Pass the following variable as a keyword arg: x. From version 0.12, the only valid positional argument will be `data`, and passing other arguments without an explicit keyword will result in an error or misinterpretation.\n",
            "  FutureWarning\n"
          ]
        },
        {
          "output_type": "display_data",
          "data": {
            "image/png": "[encoded data removed]",
            "text/plain": [
              "<Figure size 432x288 with 1 Axes>"
            ]
          },
          "metadata": {
            "needs_background": "light"
          }
        },
        {
          "output_type": "stream",
          "name": "stderr",
          "text": [
            "/usr/local/lib/python3.7/dist-packages/seaborn/distributions.py:2619: FutureWarning: `distplot` is a deprecated function and will be removed in a future version. Please adapt your code to use either `displot` (a figure-level function with similar flexibility) or `histplot` (an axes-level function for histograms).\n",
            "  warnings.warn(msg, FutureWarning)\n"
          ]
        },
        {
          "output_type": "stream",
          "name": "stdout",
          "text": [
            "Mean:  171.7255358807083\n",
            "Median:  0.0\n",
            "Mode:  0.0\n",
            "Amount of entries with 0 in  ShoppingMall :  65.40894972966755\n"
          ]
        },
        {
          "output_type": "display_data",
          "data": {
            "image/png": "[encoded data removed]",
            "text/plain": [
              "<Figure size 432x288 with 1 Axes>"
            ]
          },
          "metadata": {
            "needs_background": "light"
          }
        },
        {
          "output_type": "stream",
          "name": "stderr",
          "text": [
            "/usr/local/lib/python3.7/dist-packages/seaborn/_decorators.py:43: FutureWarning: Pass the following variable as a keyword arg: x. From version 0.12, the only valid positional argument will be `data`, and passing other arguments without an explicit keyword will result in an error or misinterpretation.\n",
            "  FutureWarning\n"
          ]
        },
        {
          "output_type": "display_data",
          "data": {
            "image/png": "[encoded data removed]",
            "text/plain": [
              "<Figure size 432x288 with 1 Axes>"
            ]
          },
          "metadata": {
            "needs_background": "light"
          }
        },
        {
          "output_type": "stream",
          "name": "stderr",
          "text": [
            "/usr/local/lib/python3.7/dist-packages/seaborn/distributions.py:2619: FutureWarning: `distplot` is a deprecated function and will be removed in a future version. Please adapt your code to use either `displot` (a figure-level function with similar flexibility) or `histplot` (an axes-level function for histograms).\n",
            "  warnings.warn(msg, FutureWarning)\n"
          ]
        },
        {
          "output_type": "stream",
          "name": "stdout",
          "text": [
            "Mean:  308.7082896117524\n",
            "Median:  0.0\n",
            "Mode:  0.0\n",
            "Amount of entries with 0 in  Spa :  62.015414701483955\n"
          ]
        },
        {
          "output_type": "display_data",
          "data": {
            "image/png": "[encoded data removed]",
            "text/plain": [
              "<Figure size 432x288 with 1 Axes>"
            ]
          },
          "metadata": {
            "needs_background": "light"
          }
        },
        {
          "output_type": "stream",
          "name": "stderr",
          "text": [
            "/usr/local/lib/python3.7/dist-packages/seaborn/_decorators.py:43: FutureWarning: Pass the following variable as a keyword arg: x. From version 0.12, the only valid positional argument will be `data`, and passing other arguments without an explicit keyword will result in an error or misinterpretation.\n",
            "  FutureWarning\n"
          ]
        },
        {
          "output_type": "display_data",
          "data": {
            "image/png": "[encoded data removed]",
            "text/plain": [
              "<Figure size 432x288 with 1 Axes>"
            ]
          },
          "metadata": {
            "needs_background": "light"
          }
        },
        {
          "output_type": "stream",
          "name": "stdout",
          "text": [
            "Mean:  302.47200186654226\n",
            "Median:  0.0\n",
            "Mode:  0.0\n",
            "Amount of entries with 0 in  VRDeck :  63.98251466697343\n"
          ]
        }
      ]
    },
    {
      "cell_type": "markdown",
      "source": [
        "From the distribution we can conclude that the data for the mentioned variables is right skewed. Around 60 to 65% values are 0.Thus, the median and mode are 0."
      ],
      "metadata": {
        "id": "fGr5-HRHWciG"
      }
    },
    {
      "cell_type": "code",
      "source": [
        "plt.figure(figsize = (20,10))\n",
        "plt.matshow(train_data_clean.corr())\n",
        "plt.show()"
      ],
      "metadata": {
        "colab": {
          "base_uri": "https://localhost:8080/",
          "height": 293
        },
        "id": "nu6g7CfQUrsM",
        "outputId": "9e13a2fe-acc7-4d27-d9e1-b7134e360e23"
      },
      "execution_count": 21,
      "outputs": [
        {
          "output_type": "display_data",
          "data": {
            "text/plain": [
              "<Figure size 1440x720 with 0 Axes>"
            ]
          },
          "metadata": {}
        },
        {
          "output_type": "display_data",
          "data": {
            "image/png": "[encoded data removed]",
            "text/plain": [
              "<Figure size 288x288 with 1 Axes>"
            ]
          },
          "metadata": {
            "needs_background": "light"
          }
        }
      ]
    },
    {
      "cell_type": "code",
      "source": [
        "train_data_clean.corr()"
      ],
      "metadata": {
        "colab": {
          "base_uri": "https://localhost:8080/",
          "height": 684
        },
        "id": "JCQuPfpKVwRg",
        "outputId": "515aa69b-41fa-4865-8369-35a4817df156"
      },
      "execution_count": 22,
      "outputs": [
        {
          "output_type": "execute_result",
          "data": {
            "text/html": [
              "\n",
              "  <div id=\"df-7c0b1151-8954-4f1d-8f2a-1db6ca023982\">\n",
              "    <div class=\"colab-df-container\">\n",
              "      <div>\n",
              "<style scoped>\n",
              "    .dataframe tbody tr th:only-of-type {\n",
              "        vertical-align: middle;\n",
              "    }\n",
              "\n",
              "    .dataframe tbody tr th {\n",
              "        vertical-align: top;\n",
              "    }\n",
              "\n",
              "    .dataframe thead th {\n",
              "        text-align: right;\n",
              "    }\n",
              "</style>\n",
              "<table border=\"1\" class=\"dataframe\">\n",
              "  <thead>\n",
              "    <tr style=\"text-align: right;\">\n",
              "      <th></th>\n",
              "      <th>PassengerId</th>\n",
              "      <th>CryoSleep</th>\n",
              "      <th>Age</th>\n",
              "      <th>RoomService</th>\n",
              "      <th>FoodCourt</th>\n",
              "      <th>ShoppingMall</th>\n",
              "      <th>Spa</th>\n",
              "      <th>VRDeck</th>\n",
              "      <th>Transported</th>\n",
              "      <th>HomePlanet_Earth</th>\n",
              "      <th>HomePlanet_Europa</th>\n",
              "      <th>HomePlanet_Mars</th>\n",
              "      <th>Destination_55 Cancri e</th>\n",
              "      <th>Destination_PSO J318.5-22</th>\n",
              "      <th>Destination_TRAPPIST-1e</th>\n",
              "      <th>Cabin_Encoded</th>\n",
              "    </tr>\n",
              "  </thead>\n",
              "  <tbody>\n",
              "    <tr>\n",
              "      <th>PassengerId</th>\n",
              "      <td>1.000000</td>\n",
              "      <td>-0.004304</td>\n",
              "      <td>-0.009099</td>\n",
              "      <td>-0.000161</td>\n",
              "      <td>-0.009295</td>\n",
              "      <td>0.017617</td>\n",
              "      <td>-0.005084</td>\n",
              "      <td>0.015503</td>\n",
              "      <td>0.021491</td>\n",
              "      <td>0.002536</td>\n",
              "      <td>0.005168</td>\n",
              "      <td>-0.008647</td>\n",
              "      <td>-0.001241</td>\n",
              "      <td>0.013681</td>\n",
              "      <td>-0.007560</td>\n",
              "      <td>0.001880</td>\n",
              "    </tr>\n",
              "    <tr>\n",
              "      <th>CryoSleep</th>\n",
              "      <td>-0.004304</td>\n",
              "      <td>1.000000</td>\n",
              "      <td>-0.077806</td>\n",
              "      <td>-0.254601</td>\n",
              "      <td>-0.214717</td>\n",
              "      <td>-0.216569</td>\n",
              "      <td>-0.206891</td>\n",
              "      <td>-0.201213</td>\n",
              "      <td>0.467230</td>\n",
              "      <td>-0.111542</td>\n",
              "      <td>0.096781</td>\n",
              "      <td>0.033596</td>\n",
              "      <td>0.063310</td>\n",
              "      <td>0.086160</td>\n",
              "      <td>-0.110564</td>\n",
              "      <td>0.295360</td>\n",
              "    </tr>\n",
              "    <tr>\n",
              "      <th>Age</th>\n",
              "      <td>-0.009099</td>\n",
              "      <td>-0.077806</td>\n",
              "      <td>1.000000</td>\n",
              "      <td>0.068965</td>\n",
              "      <td>0.128651</td>\n",
              "      <td>0.033466</td>\n",
              "      <td>0.121780</td>\n",
              "      <td>0.100428</td>\n",
              "      <td>-0.074233</td>\n",
              "      <td>-0.202745</td>\n",
              "      <td>0.218163</td>\n",
              "      <td>0.015867</td>\n",
              "      <td>0.017836</td>\n",
              "      <td>-0.027567</td>\n",
              "      <td>0.001573</td>\n",
              "      <td>-0.009287</td>\n",
              "    </tr>\n",
              "    <tr>\n",
              "      <th>RoomService</th>\n",
              "      <td>-0.000161</td>\n",
              "      <td>-0.254601</td>\n",
              "      <td>0.068965</td>\n",
              "      <td>1.000000</td>\n",
              "      <td>-0.014284</td>\n",
              "      <td>0.056270</td>\n",
              "      <td>0.011504</td>\n",
              "      <td>-0.018118</td>\n",
              "      <td>-0.244925</td>\n",
              "      <td>-0.141373</td>\n",
              "      <td>-0.068446</td>\n",
              "      <td>0.247069</td>\n",
              "      <td>-0.024752</td>\n",
              "      <td>-0.064004</td>\n",
              "      <td>0.062415</td>\n",
              "      <td>-0.175466</td>\n",
              "    </tr>\n",
              "    <tr>\n",
              "      <th>FoodCourt</th>\n",
              "      <td>-0.009295</td>\n",
              "      <td>-0.214717</td>\n",
              "      <td>0.128651</td>\n",
              "      <td>-0.014284</td>\n",
              "      <td>1.000000</td>\n",
              "      <td>-0.012577</td>\n",
              "      <td>0.222855</td>\n",
              "      <td>0.228942</td>\n",
              "      <td>0.044560</td>\n",
              "      <td>-0.215286</td>\n",
              "      <td>0.366460</td>\n",
              "      <td>-0.127684</td>\n",
              "      <td>0.135276</td>\n",
              "      <td>-0.066482</td>\n",
              "      <td>-0.077902</td>\n",
              "      <td>0.160207</td>\n",
              "    </tr>\n",
              "    <tr>\n",
              "      <th>ShoppingMall</th>\n",
              "      <td>0.017617</td>\n",
              "      <td>-0.216569</td>\n",
              "      <td>0.033466</td>\n",
              "      <td>0.056270</td>\n",
              "      <td>-0.012577</td>\n",
              "      <td>1.000000</td>\n",
              "      <td>0.015402</td>\n",
              "      <td>-0.005888</td>\n",
              "      <td>0.007999</td>\n",
              "      <td>-0.071820</td>\n",
              "      <td>-0.022210</td>\n",
              "      <td>0.112058</td>\n",
              "      <td>-0.014185</td>\n",
              "      <td>-0.032136</td>\n",
              "      <td>0.032955</td>\n",
              "      <td>-0.094426</td>\n",
              "    </tr>\n",
              "    <tr>\n",
              "      <th>Spa</th>\n",
              "      <td>-0.005084</td>\n",
              "      <td>-0.206891</td>\n",
              "      <td>0.121780</td>\n",
              "      <td>0.011504</td>\n",
              "      <td>0.222855</td>\n",
              "      <td>0.015402</td>\n",
              "      <td>1.000000</td>\n",
              "      <td>0.154805</td>\n",
              "      <td>-0.221563</td>\n",
              "      <td>-0.159513</td>\n",
              "      <td>0.267373</td>\n",
              "      <td>-0.090081</td>\n",
              "      <td>0.076006</td>\n",
              "      <td>-0.053476</td>\n",
              "      <td>-0.033644</td>\n",
              "      <td>0.088794</td>\n",
              "    </tr>\n",
              "    <tr>\n",
              "      <th>VRDeck</th>\n",
              "      <td>0.015503</td>\n",
              "      <td>-0.201213</td>\n",
              "      <td>0.100428</td>\n",
              "      <td>-0.018118</td>\n",
              "      <td>0.228942</td>\n",
              "      <td>-0.005888</td>\n",
              "      <td>0.154805</td>\n",
              "      <td>1.000000</td>\n",
              "      <td>-0.207657</td>\n",
              "      <td>-0.155526</td>\n",
              "      <td>0.284324</td>\n",
              "      <td>-0.113386</td>\n",
              "      <td>0.089796</td>\n",
              "      <td>-0.045894</td>\n",
              "      <td>-0.050542</td>\n",
              "      <td>0.119466</td>\n",
              "    </tr>\n",
              "    <tr>\n",
              "      <th>Transported</th>\n",
              "      <td>0.021491</td>\n",
              "      <td>0.467230</td>\n",
              "      <td>-0.074233</td>\n",
              "      <td>-0.244925</td>\n",
              "      <td>0.044560</td>\n",
              "      <td>0.007999</td>\n",
              "      <td>-0.221563</td>\n",
              "      <td>-0.207657</td>\n",
              "      <td>1.000000</td>\n",
              "      <td>-0.170868</td>\n",
              "      <td>0.177838</td>\n",
              "      <td>0.019816</td>\n",
              "      <td>0.109068</td>\n",
              "      <td>0.000117</td>\n",
              "      <td>-0.096813</td>\n",
              "      <td>0.194161</td>\n",
              "    </tr>\n",
              "    <tr>\n",
              "      <th>HomePlanet_Earth</th>\n",
              "      <td>0.002536</td>\n",
              "      <td>-0.111542</td>\n",
              "      <td>-0.202745</td>\n",
              "      <td>-0.141373</td>\n",
              "      <td>-0.215286</td>\n",
              "      <td>-0.071820</td>\n",
              "      <td>-0.159513</td>\n",
              "      <td>-0.155526</td>\n",
              "      <td>-0.170868</td>\n",
              "      <td>1.000000</td>\n",
              "      <td>-0.629546</td>\n",
              "      <td>-0.555939</td>\n",
              "      <td>-0.154997</td>\n",
              "      <td>0.234759</td>\n",
              "      <td>-0.011000</td>\n",
              "      <td>0.000562</td>\n",
              "    </tr>\n",
              "    <tr>\n",
              "      <th>HomePlanet_Europa</th>\n",
              "      <td>0.005168</td>\n",
              "      <td>0.096781</td>\n",
              "      <td>0.218163</td>\n",
              "      <td>-0.068446</td>\n",
              "      <td>0.366460</td>\n",
              "      <td>-0.022210</td>\n",
              "      <td>0.267373</td>\n",
              "      <td>0.284324</td>\n",
              "      <td>0.177838</td>\n",
              "      <td>-0.629546</td>\n",
              "      <td>1.000000</td>\n",
              "      <td>-0.295841</td>\n",
              "      <td>0.292645</td>\n",
              "      <td>-0.165320</td>\n",
              "      <td>-0.154967</td>\n",
              "      <td>0.436494</td>\n",
              "    </tr>\n",
              "    <tr>\n",
              "      <th>HomePlanet_Mars</th>\n",
              "      <td>-0.008647</td>\n",
              "      <td>0.033596</td>\n",
              "      <td>0.015867</td>\n",
              "      <td>0.247069</td>\n",
              "      <td>-0.127684</td>\n",
              "      <td>0.112058</td>\n",
              "      <td>-0.090081</td>\n",
              "      <td>-0.113386</td>\n",
              "      <td>0.019816</td>\n",
              "      <td>-0.555939</td>\n",
              "      <td>-0.295841</td>\n",
              "      <td>1.000000</td>\n",
              "      <td>-0.122520</td>\n",
              "      <td>-0.111759</td>\n",
              "      <td>0.179314</td>\n",
              "      <td>-0.467668</td>\n",
              "    </tr>\n",
              "    <tr>\n",
              "      <th>Destination_55 Cancri e</th>\n",
              "      <td>-0.001241</td>\n",
              "      <td>0.063310</td>\n",
              "      <td>0.017836</td>\n",
              "      <td>-0.024752</td>\n",
              "      <td>0.135276</td>\n",
              "      <td>-0.014185</td>\n",
              "      <td>0.076006</td>\n",
              "      <td>0.089796</td>\n",
              "      <td>0.109068</td>\n",
              "      <td>-0.154997</td>\n",
              "      <td>0.292645</td>\n",
              "      <td>-0.122520</td>\n",
              "      <td>1.000000</td>\n",
              "      <td>-0.166352</td>\n",
              "      <td>-0.781748</td>\n",
              "      <td>0.158307</td>\n",
              "    </tr>\n",
              "    <tr>\n",
              "      <th>Destination_PSO J318.5-22</th>\n",
              "      <td>0.013681</td>\n",
              "      <td>0.086160</td>\n",
              "      <td>-0.027567</td>\n",
              "      <td>-0.064004</td>\n",
              "      <td>-0.066482</td>\n",
              "      <td>-0.032136</td>\n",
              "      <td>-0.053476</td>\n",
              "      <td>-0.045894</td>\n",
              "      <td>0.000117</td>\n",
              "      <td>0.234759</td>\n",
              "      <td>-0.165320</td>\n",
              "      <td>-0.111759</td>\n",
              "      <td>-0.166352</td>\n",
              "      <td>1.000000</td>\n",
              "      <td>-0.484853</td>\n",
              "      <td>0.036616</td>\n",
              "    </tr>\n",
              "    <tr>\n",
              "      <th>Destination_TRAPPIST-1e</th>\n",
              "      <td>-0.007560</td>\n",
              "      <td>-0.110564</td>\n",
              "      <td>0.001573</td>\n",
              "      <td>0.062415</td>\n",
              "      <td>-0.077902</td>\n",
              "      <td>0.032955</td>\n",
              "      <td>-0.033644</td>\n",
              "      <td>-0.050542</td>\n",
              "      <td>-0.096813</td>\n",
              "      <td>-0.011000</td>\n",
              "      <td>-0.154967</td>\n",
              "      <td>0.179314</td>\n",
              "      <td>-0.781748</td>\n",
              "      <td>-0.484853</td>\n",
              "      <td>1.000000</td>\n",
              "      <td>-0.163511</td>\n",
              "    </tr>\n",
              "    <tr>\n",
              "      <th>Cabin_Encoded</th>\n",
              "      <td>0.001880</td>\n",
              "      <td>0.295360</td>\n",
              "      <td>-0.009287</td>\n",
              "      <td>-0.175466</td>\n",
              "      <td>0.160207</td>\n",
              "      <td>-0.094426</td>\n",
              "      <td>0.088794</td>\n",
              "      <td>0.119466</td>\n",
              "      <td>0.194161</td>\n",
              "      <td>0.000562</td>\n",
              "      <td>0.436494</td>\n",
              "      <td>-0.467668</td>\n",
              "      <td>0.158307</td>\n",
              "      <td>0.036616</td>\n",
              "      <td>-0.163511</td>\n",
              "      <td>1.000000</td>\n",
              "    </tr>\n",
              "  </tbody>\n",
              "</table>\n",
              "</div>\n",
              "      <button class=\"colab-df-convert\" onclick=\"convertToInteractive('df-7c0b1151-8954-4f1d-8f2a-1db6ca023982')\"\n",
              "              title=\"Convert this dataframe to an interactive table.\"\n",
              "              style=\"display:none;\">\n",
              "        \n",
              "  <svg xmlns=\"http://www.w3.org/2000/svg\" height=\"24px\"viewBox=\"0 0 24 24\"\n",
              "       width=\"24px\">\n",
              "    <path d=\"M0 0h24v24H0V0z\" fill=\"none\"/>\n",
              "    <path d=\"M18.56 5.44l.94 2.06.94-2.06 2.06-.94-2.06-.94-.94-2.06-.94 2.06-2.06.94zm-11 1L8.5 8.5l.94-2.06 2.06-.94-2.06-.94L8.5 2.5l-.94 2.06-2.06.94zm10 10l.94 2.06.94-2.06 2.06-.94-2.06-.94-.94-2.06-.94 2.06-2.06.94z\"/><path d=\"M17.41 7.96l-1.37-1.37c-.4-.4-.92-.59-1.43-.59-.52 0-1.04.2-1.43.59L10.3 9.45l-7.72 7.72c-.78.78-.78 2.05 0 2.83L4 21.41c.39.39.9.59 1.41.59.51 0 1.02-.2 1.41-.59l7.78-7.78 2.81-2.81c.8-.78.8-2.07 0-2.86zM5.41 20L4 18.59l7.72-7.72 1.47 1.35L5.41 20z\"/>\n",
              "  </svg>\n",
              "      </button>\n",
              "      \n",
              "  <style>\n",
              "    .colab-df-container {\n",
              "      display:flex;\n",
              "      flex-wrap:wrap;\n",
              "      gap: 12px;\n",
              "    }\n",
              "\n",
              "    .colab-df-convert {\n",
              "      background-color: #E8F0FE;\n",
              "      border: none;\n",
              "      border-radius: 50%;\n",
              "      cursor: pointer;\n",
              "      display: none;\n",
              "      fill: #1967D2;\n",
              "      height: 32px;\n",
              "      padding: 0 0 0 0;\n",
              "      width: 32px;\n",
              "    }\n",
              "\n",
              "    .colab-df-convert:hover {\n",
              "      background-color: #E2EBFA;\n",
              "      box-shadow: 0px 1px 2px rgba(60, 64, 67, 0.3), 0px 1px 3px 1px rgba(60, 64, 67, 0.15);\n",
              "      fill: #174EA6;\n",
              "    }\n",
              "\n",
              "    [theme=dark] .colab-df-convert {\n",
              "      background-color: #3B4455;\n",
              "      fill: #D2E3FC;\n",
              "    }\n",
              "\n",
              "    [theme=dark] .colab-df-convert:hover {\n",
              "      background-color: #434B5C;\n",
              "      box-shadow: 0px 1px 3px 1px rgba(0, 0, 0, 0.15);\n",
              "      filter: drop-shadow(0px 1px 2px rgba(0, 0, 0, 0.3));\n",
              "      fill: #FFFFFF;\n",
              "    }\n",
              "  </style>\n",
              "\n",
              "      <script>\n",
              "        const buttonEl =\n",
              "          document.querySelector('#df-7c0b1151-8954-4f1d-8f2a-1db6ca023982 button.colab-df-convert');\n",
              "        buttonEl.style.display =\n",
              "          google.colab.kernel.accessAllowed ? 'block' : 'none';\n",
              "\n",
              "        async function convertToInteractive(key) {\n",
              "          const element = document.querySelector('#df-7c0b1151-8954-4f1d-8f2a-1db6ca023982');\n",
              "          const dataTable =\n",
              "            await google.colab.kernel.invokeFunction('convertToInteractive',\n",
              "                                                     [key], {});\n",
              "          if (!dataTable) return;\n",
              "\n",
              "          const docLinkHtml = 'Like what you see? Visit the ' +\n",
              "            '<a target=\"_blank\" href=https://colab.research.google.com/notebooks/data_table.ipynb>data table notebook</a>'\n",
              "            + ' to learn more about interactive tables.';\n",
              "          element.innerHTML = '';\n",
              "          dataTable['output_type'] = 'display_data';\n",
              "          await google.colab.output.renderOutput(dataTable, element);\n",
              "          const docLink = document.createElement('div');\n",
              "          docLink.innerHTML = docLinkHtml;\n",
              "          element.appendChild(docLink);\n",
              "        }\n",
              "      </script>\n",
              "    </div>\n",
              "  </div>\n",
              "  "
            ],
            "text/plain": [
              "                           PassengerId  CryoSleep       Age  RoomService  \\\n",
              "PassengerId                   1.000000  -0.004304 -0.009099    -0.000161   \n",
              "CryoSleep                    -0.004304   1.000000 -0.077806    -0.254601   \n",
              "Age                          -0.009099  -0.077806  1.000000     0.068965   \n",
              "RoomService                  -0.000161  -0.254601  0.068965     1.000000   \n",
              "FoodCourt                    -0.009295  -0.214717  0.128651    -0.014284   \n",
              "ShoppingMall                  0.017617  -0.216569  0.033466     0.056270   \n",
              "Spa                          -0.005084  -0.206891  0.121780     0.011504   \n",
              "VRDeck                        0.015503  -0.201213  0.100428    -0.018118   \n",
              "Transported                   0.021491   0.467230 -0.074233    -0.244925   \n",
              "HomePlanet_Earth              0.002536  -0.111542 -0.202745    -0.141373   \n",
              "HomePlanet_Europa             0.005168   0.096781  0.218163    -0.068446   \n",
              "HomePlanet_Mars              -0.008647   0.033596  0.015867     0.247069   \n",
              "Destination_55 Cancri e      -0.001241   0.063310  0.017836    -0.024752   \n",
              "Destination_PSO J318.5-22     0.013681   0.086160 -0.027567    -0.064004   \n",
              "Destination_TRAPPIST-1e      -0.007560  -0.110564  0.001573     0.062415   \n",
              "Cabin_Encoded                 0.001880   0.295360 -0.009287    -0.175466   \n",
              "\n",
              "                           FoodCourt  ShoppingMall       Spa    VRDeck  \\\n",
              "PassengerId                -0.009295      0.017617 -0.005084  0.015503   \n",
              "CryoSleep                  -0.214717     -0.216569 -0.206891 -0.201213   \n",
              "Age                         0.128651      0.033466  0.121780  0.100428   \n",
              "RoomService                -0.014284      0.056270  0.011504 -0.018118   \n",
              "FoodCourt                   1.000000     -0.012577  0.222855  0.228942   \n",
              "ShoppingMall               -0.012577      1.000000  0.015402 -0.005888   \n",
              "Spa                         0.222855      0.015402  1.000000  0.154805   \n",
              "VRDeck                      0.228942     -0.005888  0.154805  1.000000   \n",
              "Transported                 0.044560      0.007999 -0.221563 -0.207657   \n",
              "HomePlanet_Earth           -0.215286     -0.071820 -0.159513 -0.155526   \n",
              "HomePlanet_Europa           0.366460     -0.022210  0.267373  0.284324   \n",
              "HomePlanet_Mars            -0.127684      0.112058 -0.090081 -0.113386   \n",
              "Destination_55 Cancri e     0.135276     -0.014185  0.076006  0.089796   \n",
              "Destination_PSO J318.5-22  -0.066482     -0.032136 -0.053476 -0.045894   \n",
              "Destination_TRAPPIST-1e    -0.077902      0.032955 -0.033644 -0.050542   \n",
              "Cabin_Encoded               0.160207     -0.094426  0.088794  0.119466   \n",
              "\n",
              "                           Transported  HomePlanet_Earth  HomePlanet_Europa  \\\n",
              "PassengerId                   0.021491          0.002536           0.005168   \n",
              "CryoSleep                     0.467230         -0.111542           0.096781   \n",
              "Age                          -0.074233         -0.202745           0.218163   \n",
              "RoomService                  -0.244925         -0.141373          -0.068446   \n",
              "FoodCourt                     0.044560         -0.215286           0.366460   \n",
              "ShoppingMall                  0.007999         -0.071820          -0.022210   \n",
              "Spa                          -0.221563         -0.159513           0.267373   \n",
              "VRDeck                       -0.207657         -0.155526           0.284324   \n",
              "Transported                   1.000000         -0.170868           0.177838   \n",
              "HomePlanet_Earth             -0.170868          1.000000          -0.629546   \n",
              "HomePlanet_Europa             0.177838         -0.629546           1.000000   \n",
              "HomePlanet_Mars               0.019816         -0.555939          -0.295841   \n",
              "Destination_55 Cancri e       0.109068         -0.154997           0.292645   \n",
              "Destination_PSO J318.5-22     0.000117          0.234759          -0.165320   \n",
              "Destination_TRAPPIST-1e      -0.096813         -0.011000          -0.154967   \n",
              "Cabin_Encoded                 0.194161          0.000562           0.436494   \n",
              "\n",
              "                           HomePlanet_Mars  Destination_55 Cancri e  \\\n",
              "PassengerId                      -0.008647                -0.001241   \n",
              "CryoSleep                         0.033596                 0.063310   \n",
              "Age                               0.015867                 0.017836   \n",
              "RoomService                       0.247069                -0.024752   \n",
              "FoodCourt                        -0.127684                 0.135276   \n",
              "ShoppingMall                      0.112058                -0.014185   \n",
              "Spa                              -0.090081                 0.076006   \n",
              "VRDeck                           -0.113386                 0.089796   \n",
              "Transported                       0.019816                 0.109068   \n",
              "HomePlanet_Earth                 -0.555939                -0.154997   \n",
              "HomePlanet_Europa                -0.295841                 0.292645   \n",
              "HomePlanet_Mars                   1.000000                -0.122520   \n",
              "Destination_55 Cancri e          -0.122520                 1.000000   \n",
              "Destination_PSO J318.5-22        -0.111759                -0.166352   \n",
              "Destination_TRAPPIST-1e           0.179314                -0.781748   \n",
              "Cabin_Encoded                    -0.467668                 0.158307   \n",
              "\n",
              "                           Destination_PSO J318.5-22  Destination_TRAPPIST-1e  \\\n",
              "PassengerId                                 0.013681                -0.007560   \n",
              "CryoSleep                                   0.086160                -0.110564   \n",
              "Age                                        -0.027567                 0.001573   \n",
              "RoomService                                -0.064004                 0.062415   \n",
              "FoodCourt                                  -0.066482                -0.077902   \n",
              "ShoppingMall                               -0.032136                 0.032955   \n",
              "Spa                                        -0.053476                -0.033644   \n",
              "VRDeck                                     -0.045894                -0.050542   \n",
              "Transported                                 0.000117                -0.096813   \n",
              "HomePlanet_Earth                            0.234759                -0.011000   \n",
              "HomePlanet_Europa                          -0.165320                -0.154967   \n",
              "HomePlanet_Mars                            -0.111759                 0.179314   \n",
              "Destination_55 Cancri e                    -0.166352                -0.781748   \n",
              "Destination_PSO J318.5-22                   1.000000                -0.484853   \n",
              "Destination_TRAPPIST-1e                    -0.484853                 1.000000   \n",
              "Cabin_Encoded                               0.036616                -0.163511   \n",
              "\n",
              "                           Cabin_Encoded  \n",
              "PassengerId                     0.001880  \n",
              "CryoSleep                       0.295360  \n",
              "Age                            -0.009287  \n",
              "RoomService                    -0.175466  \n",
              "FoodCourt                       0.160207  \n",
              "ShoppingMall                   -0.094426  \n",
              "Spa                             0.088794  \n",
              "VRDeck                          0.119466  \n",
              "Transported                     0.194161  \n",
              "HomePlanet_Earth                0.000562  \n",
              "HomePlanet_Europa               0.436494  \n",
              "HomePlanet_Mars                -0.467668  \n",
              "Destination_55 Cancri e         0.158307  \n",
              "Destination_PSO J318.5-22       0.036616  \n",
              "Destination_TRAPPIST-1e        -0.163511  \n",
              "Cabin_Encoded                   1.000000  "
            ]
          },
          "metadata": {},
          "execution_count": 22
        }
      ]
    },
    {
      "cell_type": "markdown",
      "source": [
        "The numberical vairables do not have any strong correlation so we can fill the null values for the all the columns with 0."
      ],
      "metadata": {
        "id": "yygYYsuqWxvq"
      }
    },
    {
      "cell_type": "code",
      "source": [
        "train_data_clean['RoomService'].fillna(0, inplace = True)\n",
        "train_data_clean['FoodCourt'].fillna(0, inplace = True)\n",
        "train_data_clean['ShoppingMall'].fillna(0, inplace = True)\n",
        "train_data_clean['Spa'].fillna(0, inplace = True)\n",
        "train_data_clean['VRDeck'].fillna(0, inplace = True)\n",
        "\n",
        "# Applying the same transformation to test data as the test data also has similar distribution\n",
        "test_data_clean['RoomService'].fillna(0, inplace = True)\n",
        "test_data_clean['FoodCourt'].fillna(0, inplace = True)\n",
        "test_data_clean['ShoppingMall'].fillna(0, inplace = True)\n",
        "test_data_clean['Spa'].fillna(0, inplace = True)\n",
        "test_data_clean['VRDeck'].fillna(0, inplace = True)\n"
      ],
      "metadata": {
        "id": "25dLP6CCgv6u"
      },
      "execution_count": 23,
      "outputs": []
    },
    {
      "cell_type": "code",
      "source": [
        "# Remving outliers\n",
        "num = ['RoomService', 'FoodCourt', 'ShoppingMall', 'Spa', 'VRDeck']\n",
        "ind = []\n",
        "for ele in num:\n",
        "  indexNames = train_data_clean[train_data_clean[ele] >20000].index\n",
        "  ind+=list(indexNames)\n",
        "ind = list(set(ind))\n",
        "train_data_clean.drop(ind , inplace=True)"
      ],
      "metadata": {
        "id": "GXMMfRDRxN9T"
      },
      "execution_count": 24,
      "outputs": []
    },
    {
      "cell_type": "code",
      "source": [
        "# Standardizing numerical data\n",
        "def min_max_norm(df):\n",
        "  \"\"\"\n",
        "  Function to normalize numerical predictors in the dataframe\n",
        "  \"\"\"\n",
        "  normalized_df=(df-df.min())/(df.max()-df.min())\n",
        "\n",
        "  return normalized_df\n"
      ],
      "metadata": {
        "id": "TRHfhwVWn8-K"
      },
      "execution_count": 25,
      "outputs": []
    },
    {
      "cell_type": "code",
      "source": [
        "# list of the all numerical columns in the dataframe\n",
        "num_rows = ['Age', 'RoomService', 'FoodCourt', 'ShoppingMall', 'Spa', 'VRDeck']\n",
        "\n",
        "#Standardizing the columns in the train and test dataframe using min_max Nomalization\n",
        "for ele in num_rows:\n",
        "  train_data_clean[ele] = min_max_norm(train_data_clean[ele])\n",
        "  test_data_clean[ele] = min_max_norm(test_data_clean[ele])"
      ],
      "metadata": {
        "id": "7iBgRowOoRJh"
      },
      "execution_count": 26,
      "outputs": []
    },
    {
      "cell_type": "code",
      "source": [
        "train_data_clean.to_csv(\"data.csv\")\n",
        "test_data_clean.to_csv(\"data_test.csv\")"
      ],
      "metadata": {
        "id": "NpOCtnltXDMJ"
      },
      "execution_count": 27,
      "outputs": []
    },
    {
      "cell_type": "code",
      "source": [
        "# Function to create a confusion matrix to understand the metrics associated with a classification model\n",
        "def plot_confusion_matrix(cm, classes,normalize=False,title='Confusion matrix',cmap=plt.cm.Blues):\n",
        "    \"\"\"\n",
        "    source:http://scikit-learn.org/stable/auto_examples/model_selection/plot_confusion_matrix.html\n",
        "    This function prints and plots the confusion matrix.\n",
        "    Normalization can be applied by setting `normalize=True`.\n",
        "    \"\"\"\n",
        "    plt.imshow(cm, interpolation='nearest', cmap=cmap)\n",
        "    plt.title(title)\n",
        "    plt.colorbar()\n",
        "    tick_marks = np.arange(len(classes))\n",
        "    plt.xticks(tick_marks, classes, rotation=45)\n",
        "    plt.yticks(tick_marks, classes)\n",
        "\n",
        "    if normalize:\n",
        "        cm = cm.astype('float') / cm.sum(axis=1)[:, np.newaxis]\n",
        "        print(\"Normalized confusion matrix\")\n",
        "    else:\n",
        "        print('Confusion matrix, without normalization')\n",
        "\n",
        "    thresh = cm.max() / 2.\n",
        "    for i, j in itertools.product(range(cm.shape[0]), range(cm.shape[1])):\n",
        "        plt.text(j, i, cm[i, j],\n",
        "                 horizontalalignment=\"center\",\n",
        "                 color=\"white\" if cm[i, j] > thresh else \"black\")\n",
        "\n",
        "    plt.tight_layout()\n",
        "    plt.ylabel('True label')\n",
        "    plt.xlabel('Predicted label')"
      ],
      "metadata": {
        "id": "RvVkI3rjVrKx"
      },
      "execution_count": 28,
      "outputs": []
    },
    {
      "cell_type": "markdown",
      "source": [
        "## 5. Model fitting\n",
        "Let us start with using logistic regression\n",
        "\n",
        "Splitting the data into train-test"
      ],
      "metadata": {
        "id": "fIXvrHbRYUz_"
      }
    },
    {
      "cell_type": "code",
      "source": [
        "Y = train_data_clean['Transported']\n",
        "X = train_data_clean.drop(columns = ['Transported'])\n",
        "X_train, X_test, Y_train, Y_test = train_test_split(X,Y, test_size = 0.33, random_state = 42)"
      ],
      "metadata": {
        "id": "CgcruCMLYdcA"
      },
      "execution_count": 29,
      "outputs": []
    },
    {
      "cell_type": "markdown",
      "source": [
        "Initializing the logistic regression model"
      ],
      "metadata": {
        "id": "6rZYoK8NZgxb"
      }
    },
    {
      "cell_type": "code",
      "source": [
        "lr = LogisticRegression()\n",
        "lr"
      ],
      "metadata": {
        "colab": {
          "base_uri": "https://localhost:8080/"
        },
        "id": "5yk9hzU3ZlQ6",
        "outputId": "89da0db3-ee0c-40ac-fec3-14d4a38c0cf8"
      },
      "execution_count": 30,
      "outputs": [
        {
          "output_type": "execute_result",
          "data": {
            "text/plain": [
              "LogisticRegression()"
            ]
          },
          "metadata": {},
          "execution_count": 30
        }
      ]
    },
    {
      "cell_type": "markdown",
      "source": [
        "Fitting the model and predicting the outcome"
      ],
      "metadata": {
        "id": "qeq6cVN9bCu9"
      }
    },
    {
      "cell_type": "code",
      "source": [
        "lr.fit(X_train, Y_train)\n",
        "yhat_lr = lr.predict(X_test)\n",
        "yhat_lr"
      ],
      "metadata": {
        "colab": {
          "base_uri": "https://localhost:8080/"
        },
        "id": "ZxDc_M9sZoqM",
        "outputId": "49e737b7-41ed-4bc0-9deb-216ba70b8fee"
      },
      "execution_count": 31,
      "outputs": [
        {
          "output_type": "execute_result",
          "data": {
            "text/plain": [
              "array([ True,  True,  True, ...,  True,  True,  True])"
            ]
          },
          "metadata": {},
          "execution_count": 31
        }
      ]
    },
    {
      "cell_type": "code",
      "source": [
        "accuracy_score(Y_test,yhat_lr)"
      ],
      "metadata": {
        "colab": {
          "base_uri": "https://localhost:8080/"
        },
        "id": "19GUwncebc5s",
        "outputId": "aa15503f-fd3d-47ab-fa44-49162cd9469b"
      },
      "execution_count": 32,
      "outputs": [
        {
          "output_type": "execute_result",
          "data": {
            "text/plain": [
              "0.49790648988136776"
            ]
          },
          "metadata": {},
          "execution_count": 32
        }
      ]
    },
    {
      "cell_type": "markdown",
      "source": [
        "Let us check out other classifiers"
      ],
      "metadata": {
        "id": "RHZxRk-LJY46"
      }
    },
    {
      "cell_type": "code",
      "source": [
        "# Random Forest Classifier\n",
        "rf = RandomForestClassifier(n_estimators=128)\n",
        "rf.fit(X_train, Y_train)\n",
        "yhat_rf = rf.predict(X_test)\n",
        "yhat_rf\n",
        "a_rf = accuracy_score(Y_test,yhat_rf)\n",
        "a_rf"
      ],
      "metadata": {
        "colab": {
          "base_uri": "https://localhost:8080/"
        },
        "id": "PgZsynZhocdA",
        "outputId": "5fc55a8a-38de-4472-be23-b8b9cef1c72c"
      },
      "execution_count": 33,
      "outputs": [
        {
          "output_type": "execute_result",
          "data": {
            "text/plain": [
              "0.8014654570830426"
            ]
          },
          "metadata": {},
          "execution_count": 33
        }
      ]
    },
    {
      "cell_type": "code",
      "source": [
        "# Naive Bayes Classifier\n",
        "nb = MultinomialNB(alpha=0.9)\n",
        "nb.fit(X_train, Y_train)\n",
        "yhat_nb = nb.predict(X_test)\n",
        "yhat_nb\n",
        "a_nb = accuracy_score(Y_test,yhat_nb)\n",
        "a_nb"
      ],
      "metadata": {
        "colab": {
          "base_uri": "https://localhost:8080/"
        },
        "id": "I_HNPLACbN6f",
        "outputId": "638b85e5-e2f3-4fdc-d482-60bf46d9e213"
      },
      "execution_count": 34,
      "outputs": [
        {
          "output_type": "execute_result",
          "data": {
            "text/plain": [
              "0.6999302163293789"
            ]
          },
          "metadata": {},
          "execution_count": 34
        }
      ]
    },
    {
      "cell_type": "code",
      "source": [
        "# Adaboost Classifier\n",
        "ab = AdaBoostClassifier(n_estimators=200)\n",
        "ab.fit(X_train, Y_train)\n",
        "yhat_ab = ab.predict(X_test)\n",
        "yhat_ab\n",
        "a_ab = accuracy_score(Y_test,yhat_ab)\n",
        "a_ab"
      ],
      "metadata": {
        "colab": {
          "base_uri": "https://localhost:8080/"
        },
        "id": "s_JaAdmHH3tR",
        "outputId": "a39cf62f-4844-4ced-bb9f-96aba8761f5a"
      },
      "execution_count": 35,
      "outputs": [
        {
          "output_type": "execute_result",
          "data": {
            "text/plain": [
              "0.7861130495464062"
            ]
          },
          "metadata": {},
          "execution_count": 35
        }
      ]
    },
    {
      "cell_type": "code",
      "source": [
        "# Decision tree Classifiers\n",
        "dt = DecisionTreeClassifier()\n",
        "dt.fit(X_train, Y_train)\n",
        "yhat_dt = dt.predict(X_test)\n",
        "yhat_dt\n",
        "a_dt = accuracy_score(Y_test,yhat_dt)\n",
        "a_dt"
      ],
      "metadata": {
        "colab": {
          "base_uri": "https://localhost:8080/"
        },
        "id": "KDLdr74lJcem",
        "outputId": "8ab823d4-cc77-4193-9f45-27d5f206d98e"
      },
      "execution_count": 36,
      "outputs": [
        {
          "output_type": "execute_result",
          "data": {
            "text/plain": [
              "0.7145847871598046"
            ]
          },
          "metadata": {},
          "execution_count": 36
        }
      ]
    },
    {
      "cell_type": "code",
      "source": [
        "# Support Vector Machine Classifier\n",
        "svm = make_pipeline(StandardScaler(), SVC(gamma='auto', C= 0.8))\n",
        "svm.fit(X_train, Y_train)\n",
        "yhat_svm = svm.predict(X_test)\n",
        "yhat_svm\n",
        "a_svm = accuracy_score(Y_test,yhat_svm)\n",
        "print(a_svm)\n",
        "cm_svm = confusion_matrix(Y_test,yhat_svm)\n",
        "plot_confusion_matrix(cm_svm, classes=['YES', 'NO'])\n",
        "print(classification_report(Y_test, yhat_svm, target_names=['Yes','No']))"
      ],
      "metadata": {
        "colab": {
          "base_uri": "https://localhost:8080/",
          "height": 507
        },
        "id": "RsZHFz58SW9p",
        "outputId": "c9b0b913-51f8-4a96-c8ba-309037841bfa"
      },
      "execution_count": 37,
      "outputs": [
        {
          "output_type": "stream",
          "name": "stdout",
          "text": [
            "0.7969295184926727\n",
            "Confusion matrix, without normalization\n",
            "              precision    recall  f1-score   support\n",
            "\n",
            "         Yes       0.79      0.80      0.80      1439\n",
            "          No       0.80      0.79      0.80      1427\n",
            "\n",
            "    accuracy                           0.80      2866\n",
            "   macro avg       0.80      0.80      0.80      2866\n",
            "weighted avg       0.80      0.80      0.80      2866\n",
            "\n"
          ]
        },
        {
          "output_type": "display_data",
          "data": {
            "image/png": "[encoded data removed]",
            "text/plain": [
              "<Figure size 432x288 with 2 Axes>"
            ]
          },
          "metadata": {
            "needs_background": "light"
          }
        }
      ]
    },
    {
      "cell_type": "code",
      "source": [
        "# Binary classification using deep learning\n",
        "\n",
        "input_shape = [len(X_train.columns)]\n",
        "# adding layers to the network\n",
        "model = keras.Sequential([\n",
        "    # hidden layers with ReLU activation\n",
        "    layers.BatchNormalization(input_shape = input_shape),\n",
        "    layers.Dense(units = 512, activation = 'relu'),\n",
        "    layers.BatchNormalization(),\n",
        "    layers.Dropout(0.3),\n",
        "    layers.Dense(units = 512, activation = 'relu'),\n",
        "    layers.BatchNormalization(),\n",
        "    layers.Dropout(0.3),\n",
        "    # output layer\n",
        "    layers.Dense(1, activation='sigmoid'),\n",
        "    \n",
        "])\n",
        "\n",
        "# adding optimizer and loss function\n",
        "model.compile(\n",
        "optimizer = \"adam\",\n",
        "loss='binary_crossentropy',\n",
        "metrics=['binary_accuracy'],\n",
        ")"
      ],
      "metadata": {
        "id": "eUABg6QDFgho"
      },
      "execution_count": 38,
      "outputs": []
    },
    {
      "cell_type": "code",
      "source": [
        "early_stopping = keras.callbacks.EarlyStopping(\n",
        "    patience=5,\n",
        "    min_delta=0.001,\n",
        "    restore_best_weights=True,\n",
        ")\n",
        "deep = model.fit(\n",
        "    X_train, Y_train,\n",
        "    validation_data=(X_test, Y_test),\n",
        "    batch_size=512,\n",
        "    epochs=100,\n",
        "    callbacks=[early_stopping],\n",
        ")\n",
        "\n",
        "history_df = pd.DataFrame(deep.history)\n",
        "history_df.loc[:, ['loss', 'val_loss']].plot(title=\"Cross-entropy\")\n",
        "history_df.loc[:, ['binary_accuracy', 'val_binary_accuracy']].plot(title=\"Accuracy\")"
      ],
      "metadata": {
        "colab": {
          "base_uri": "https://localhost:8080/",
          "height": 1000
        },
        "id": "j1Qa-kAEGI8E",
        "outputId": "fe431e42-32d0-4293-db06-ef7c65cec4bc"
      },
      "execution_count": 39,
      "outputs": [
        {
          "output_type": "stream",
          "name": "stdout",
          "text": [
            "Epoch 1/100\n",
            "12/12 [==============================] - 2s 66ms/step - loss: 0.6310 - binary_accuracy: 0.7231 - val_loss: 0.6598 - val_binary_accuracy: 0.6452\n",
            "Epoch 2/100\n",
            "12/12 [==============================] - 1s 43ms/step - loss: 0.5320 - binary_accuracy: 0.7633 - val_loss: 0.6742 - val_binary_accuracy: 0.6061\n",
            "Epoch 3/100\n",
            "12/12 [==============================] - 1s 44ms/step - loss: 0.4856 - binary_accuracy: 0.7674 - val_loss: 0.6475 - val_binary_accuracy: 0.6472\n",
            "Epoch 4/100\n",
            "12/12 [==============================] - 1s 42ms/step - loss: 0.4638 - binary_accuracy: 0.7754 - val_loss: 0.6547 - val_binary_accuracy: 0.6441\n",
            "Epoch 5/100\n",
            "12/12 [==============================] - 1s 42ms/step - loss: 0.4494 - binary_accuracy: 0.7781 - val_loss: 0.6328 - val_binary_accuracy: 0.6671\n",
            "Epoch 6/100\n",
            "12/12 [==============================] - 0s 41ms/step - loss: 0.4525 - binary_accuracy: 0.7778 - val_loss: 0.6332 - val_binary_accuracy: 0.6759\n",
            "Epoch 7/100\n",
            "12/12 [==============================] - 1s 42ms/step - loss: 0.4459 - binary_accuracy: 0.7783 - val_loss: 0.6354 - val_binary_accuracy: 0.6731\n",
            "Epoch 8/100\n",
            "12/12 [==============================] - 1s 43ms/step - loss: 0.4331 - binary_accuracy: 0.7896 - val_loss: 0.6256 - val_binary_accuracy: 0.6734\n",
            "Epoch 9/100\n",
            "12/12 [==============================] - 1s 42ms/step - loss: 0.4305 - binary_accuracy: 0.7893 - val_loss: 0.6281 - val_binary_accuracy: 0.6734\n",
            "Epoch 10/100\n",
            "12/12 [==============================] - 1s 42ms/step - loss: 0.4257 - binary_accuracy: 0.7860 - val_loss: 0.6141 - val_binary_accuracy: 0.7017\n",
            "Epoch 11/100\n",
            "12/12 [==============================] - 0s 42ms/step - loss: 0.4293 - binary_accuracy: 0.7857 - val_loss: 0.6081 - val_binary_accuracy: 0.6943\n",
            "Epoch 12/100\n",
            "12/12 [==============================] - 0s 41ms/step - loss: 0.4192 - binary_accuracy: 0.7948 - val_loss: 0.6058 - val_binary_accuracy: 0.6912\n",
            "Epoch 13/100\n",
            "12/12 [==============================] - 1s 43ms/step - loss: 0.4150 - binary_accuracy: 0.7984 - val_loss: 0.6017 - val_binary_accuracy: 0.6874\n",
            "Epoch 14/100\n",
            "12/12 [==============================] - 0s 42ms/step - loss: 0.4161 - binary_accuracy: 0.7963 - val_loss: 0.5916 - val_binary_accuracy: 0.7045\n",
            "Epoch 15/100\n",
            "12/12 [==============================] - 1s 43ms/step - loss: 0.4227 - binary_accuracy: 0.7901 - val_loss: 0.5905 - val_binary_accuracy: 0.7027\n",
            "Epoch 16/100\n",
            "12/12 [==============================] - 0s 41ms/step - loss: 0.4096 - binary_accuracy: 0.7920 - val_loss: 0.5788 - val_binary_accuracy: 0.7045\n",
            "Epoch 17/100\n",
            "12/12 [==============================] - 1s 42ms/step - loss: 0.4119 - binary_accuracy: 0.8003 - val_loss: 0.5755 - val_binary_accuracy: 0.7034\n",
            "Epoch 18/100\n",
            "12/12 [==============================] - 0s 41ms/step - loss: 0.4098 - binary_accuracy: 0.8001 - val_loss: 0.5583 - val_binary_accuracy: 0.7446\n",
            "Epoch 19/100\n",
            "12/12 [==============================] - 0s 41ms/step - loss: 0.4077 - binary_accuracy: 0.8011 - val_loss: 0.5617 - val_binary_accuracy: 0.7118\n",
            "Epoch 20/100\n",
            "12/12 [==============================] - 1s 41ms/step - loss: 0.4071 - binary_accuracy: 0.7977 - val_loss: 0.5502 - val_binary_accuracy: 0.7460\n",
            "Epoch 21/100\n",
            "12/12 [==============================] - 1s 45ms/step - loss: 0.4083 - binary_accuracy: 0.7994 - val_loss: 0.5402 - val_binary_accuracy: 0.7327\n",
            "Epoch 22/100\n",
            "12/12 [==============================] - 1s 44ms/step - loss: 0.4086 - binary_accuracy: 0.8018 - val_loss: 0.5392 - val_binary_accuracy: 0.7404\n",
            "Epoch 23/100\n",
            "12/12 [==============================] - 1s 45ms/step - loss: 0.3996 - binary_accuracy: 0.8118 - val_loss: 0.5252 - val_binary_accuracy: 0.7582\n",
            "Epoch 24/100\n",
            "12/12 [==============================] - 0s 40ms/step - loss: 0.3988 - binary_accuracy: 0.8025 - val_loss: 0.5247 - val_binary_accuracy: 0.7387\n",
            "Epoch 25/100\n",
            "12/12 [==============================] - 0s 41ms/step - loss: 0.4026 - binary_accuracy: 0.8008 - val_loss: 0.5179 - val_binary_accuracy: 0.7456\n",
            "Epoch 26/100\n",
            "12/12 [==============================] - 1s 41ms/step - loss: 0.4037 - binary_accuracy: 0.8051 - val_loss: 0.5116 - val_binary_accuracy: 0.7533\n",
            "Epoch 27/100\n",
            "12/12 [==============================] - 0s 41ms/step - loss: 0.3966 - binary_accuracy: 0.8049 - val_loss: 0.5053 - val_binary_accuracy: 0.7592\n",
            "Epoch 28/100\n",
            "12/12 [==============================] - 0s 40ms/step - loss: 0.3958 - binary_accuracy: 0.8056 - val_loss: 0.4955 - val_binary_accuracy: 0.7620\n",
            "Epoch 29/100\n",
            "12/12 [==============================] - 0s 40ms/step - loss: 0.3985 - binary_accuracy: 0.8017 - val_loss: 0.4909 - val_binary_accuracy: 0.7749\n",
            "Epoch 30/100\n",
            "12/12 [==============================] - 1s 43ms/step - loss: 0.3957 - binary_accuracy: 0.8082 - val_loss: 0.4974 - val_binary_accuracy: 0.7463\n",
            "Epoch 31/100\n",
            "12/12 [==============================] - 0s 41ms/step - loss: 0.3934 - binary_accuracy: 0.8039 - val_loss: 0.4780 - val_binary_accuracy: 0.7690\n",
            "Epoch 32/100\n",
            "12/12 [==============================] - 1s 43ms/step - loss: 0.3921 - binary_accuracy: 0.8125 - val_loss: 0.4821 - val_binary_accuracy: 0.7648\n",
            "Epoch 33/100\n",
            "12/12 [==============================] - 0s 41ms/step - loss: 0.3921 - binary_accuracy: 0.8037 - val_loss: 0.4707 - val_binary_accuracy: 0.7711\n",
            "Epoch 34/100\n",
            "12/12 [==============================] - 1s 42ms/step - loss: 0.3923 - binary_accuracy: 0.8051 - val_loss: 0.4751 - val_binary_accuracy: 0.7662\n",
            "Epoch 35/100\n",
            "12/12 [==============================] - 0s 41ms/step - loss: 0.3923 - binary_accuracy: 0.8073 - val_loss: 0.4662 - val_binary_accuracy: 0.7599\n",
            "Epoch 36/100\n",
            "12/12 [==============================] - 1s 43ms/step - loss: 0.3922 - binary_accuracy: 0.8128 - val_loss: 0.4635 - val_binary_accuracy: 0.7753\n",
            "Epoch 37/100\n",
            "12/12 [==============================] - 1s 42ms/step - loss: 0.3966 - binary_accuracy: 0.8027 - val_loss: 0.4538 - val_binary_accuracy: 0.7788\n",
            "Epoch 38/100\n",
            "12/12 [==============================] - 1s 42ms/step - loss: 0.3879 - binary_accuracy: 0.8094 - val_loss: 0.4590 - val_binary_accuracy: 0.7746\n",
            "Epoch 39/100\n",
            "12/12 [==============================] - 1s 43ms/step - loss: 0.3881 - binary_accuracy: 0.8097 - val_loss: 0.4510 - val_binary_accuracy: 0.7756\n",
            "Epoch 40/100\n",
            "12/12 [==============================] - 1s 42ms/step - loss: 0.3874 - binary_accuracy: 0.8077 - val_loss: 0.4433 - val_binary_accuracy: 0.7816\n",
            "Epoch 41/100\n",
            "12/12 [==============================] - 0s 41ms/step - loss: 0.3887 - binary_accuracy: 0.8128 - val_loss: 0.4427 - val_binary_accuracy: 0.7802\n",
            "Epoch 42/100\n",
            "12/12 [==============================] - 1s 42ms/step - loss: 0.3862 - binary_accuracy: 0.8116 - val_loss: 0.4395 - val_binary_accuracy: 0.7844\n",
            "Epoch 43/100\n",
            "12/12 [==============================] - 0s 40ms/step - loss: 0.3847 - binary_accuracy: 0.8094 - val_loss: 0.4380 - val_binary_accuracy: 0.7861\n",
            "Epoch 44/100\n",
            "12/12 [==============================] - 0s 42ms/step - loss: 0.3876 - binary_accuracy: 0.8059 - val_loss: 0.4351 - val_binary_accuracy: 0.7840\n",
            "Epoch 45/100\n",
            "12/12 [==============================] - 0s 40ms/step - loss: 0.3831 - binary_accuracy: 0.8116 - val_loss: 0.4337 - val_binary_accuracy: 0.7906\n",
            "Epoch 46/100\n",
            "12/12 [==============================] - 0s 42ms/step - loss: 0.3859 - binary_accuracy: 0.8059 - val_loss: 0.4373 - val_binary_accuracy: 0.7868\n",
            "Epoch 47/100\n",
            "12/12 [==============================] - 0s 41ms/step - loss: 0.3867 - binary_accuracy: 0.8108 - val_loss: 0.4335 - val_binary_accuracy: 0.7945\n",
            "Epoch 48/100\n",
            "12/12 [==============================] - 1s 42ms/step - loss: 0.3868 - binary_accuracy: 0.8075 - val_loss: 0.4263 - val_binary_accuracy: 0.7931\n",
            "Epoch 49/100\n",
            "12/12 [==============================] - 0s 41ms/step - loss: 0.3798 - binary_accuracy: 0.8185 - val_loss: 0.4280 - val_binary_accuracy: 0.7948\n",
            "Epoch 50/100\n",
            "12/12 [==============================] - 1s 43ms/step - loss: 0.3818 - binary_accuracy: 0.8092 - val_loss: 0.4260 - val_binary_accuracy: 0.7948\n",
            "Epoch 51/100\n",
            "12/12 [==============================] - 0s 42ms/step - loss: 0.3848 - binary_accuracy: 0.8109 - val_loss: 0.4315 - val_binary_accuracy: 0.7886\n",
            "Epoch 52/100\n",
            "12/12 [==============================] - 1s 42ms/step - loss: 0.3862 - binary_accuracy: 0.8061 - val_loss: 0.4239 - val_binary_accuracy: 0.8018\n",
            "Epoch 53/100\n",
            "12/12 [==============================] - 0s 41ms/step - loss: 0.3815 - binary_accuracy: 0.8114 - val_loss: 0.4273 - val_binary_accuracy: 0.7906\n",
            "Epoch 54/100\n",
            "12/12 [==============================] - 1s 42ms/step - loss: 0.3811 - binary_accuracy: 0.8128 - val_loss: 0.4183 - val_binary_accuracy: 0.8029\n",
            "Epoch 55/100\n",
            "12/12 [==============================] - 0s 39ms/step - loss: 0.3779 - binary_accuracy: 0.8154 - val_loss: 0.4216 - val_binary_accuracy: 0.8015\n",
            "Epoch 56/100\n",
            "12/12 [==============================] - 0s 41ms/step - loss: 0.3810 - binary_accuracy: 0.8171 - val_loss: 0.4249 - val_binary_accuracy: 0.8001\n",
            "Epoch 57/100\n",
            "12/12 [==============================] - 0s 41ms/step - loss: 0.3838 - binary_accuracy: 0.8169 - val_loss: 0.4282 - val_binary_accuracy: 0.7955\n",
            "Epoch 58/100\n",
            "12/12 [==============================] - 0s 41ms/step - loss: 0.3811 - binary_accuracy: 0.8101 - val_loss: 0.4189 - val_binary_accuracy: 0.8043\n",
            "Epoch 59/100\n",
            "12/12 [==============================] - 0s 42ms/step - loss: 0.3772 - binary_accuracy: 0.8120 - val_loss: 0.4265 - val_binary_accuracy: 0.7948\n"
          ]
        },
        {
          "output_type": "execute_result",
          "data": {
            "text/plain": [
              "<matplotlib.axes._subplots.AxesSubplot at 0x7f0e1f6a23d0>"
            ]
          },
          "metadata": {},
          "execution_count": 39
        },
        {
          "output_type": "display_data",
          "data": {
            "image/png": "[encoded data removed]",
            "text/plain": [
              "<Figure size 432x288 with 1 Axes>"
            ]
          },
          "metadata": {
            "needs_background": "light"
          }
        },
        {
          "output_type": "display_data",
          "data": {
            "image/png": "[encoded data removed]",
            "text/plain": [
              "<Figure size 432x288 with 1 Axes>"
            ]
          },
          "metadata": {
            "needs_background": "light"
          }
        }
      ]
    },
    {
      "cell_type": "code",
      "source": [
        "y = model.predict(test_data_clean)\n",
        "ybool = []\n",
        "for ele in y:\n",
        "  if ele<0.5:\n",
        "    ybool.append(False)\n",
        "  else:\n",
        "    ybool.append(True)"
      ],
      "metadata": {
        "id": "6Xz_WVfQHgzX"
      },
      "execution_count": 40,
      "outputs": []
    },
    {
      "cell_type": "code",
      "source": [
        "ysub = svm.predict(test_data_clean)"
      ],
      "metadata": {
        "id": "qLGhYtEFcu_b"
      },
      "execution_count": 41,
      "outputs": []
    },
    {
      "cell_type": "code",
      "source": [
        "from google.colab import drive\n",
        "\n",
        "drive.mount('/content/drive')\n",
        "test_ID = pd.read_csv(\"/content/test.csv\")['PassengerId']\n",
        "submission = pd.DataFrame(zip(test_ID,ybool), columns = ['PassengerId','Transported']).set_index(\"PassengerId\")\n",
        "submission.to_csv(\"submission.csv\")"
      ],
      "metadata": {
        "id": "CZYGeP51mxnb",
        "colab": {
          "base_uri": "https://localhost:8080/"
        },
        "outputId": "828ad341-9eee-4423-ec8c-9c9b1e23a8b4"
      },
      "execution_count": 42,
      "outputs": [
        {
          "output_type": "stream",
          "name": "stdout",
          "text": [
            "Drive already mounted at /content/drive; to attempt to forcibly remount, call drive.mount(\"/content/drive\", force_remount=True).\n"
          ]
        }
      ]
    }
  ]
}